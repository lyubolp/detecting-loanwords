{
 "cells": [
  {
   "cell_type": "code",
   "execution_count": 1,
   "metadata": {},
   "outputs": [],
   "source": [
    "import os\n",
    "import pandas as pd"
   ]
  },
  {
   "cell_type": "code",
   "execution_count": null,
   "metadata": {},
   "outputs": [],
   "source": [
    "def tokenize_file_sentences(filename) -> Set[str]:\n",
    "    lines = read_file(filename)\n",
    "\n",
    "    lines = [line.strip() for line in lines]\n",
    "    lines = [line for line in lines if line != '']\n",
    "\n",
    "    tokens_per_line = [sent_tokenize(line) for line in lines]\n",
    "\n",
    "    print(tokens_per_line)\n"
   ]
  },
  {
   "cell_type": "code",
   "execution_count": 1,
   "metadata": {},
   "outputs": [
    {
     "data": {
      "text/plain": [
       "'Amount of books: 47825'"
      ]
     },
     "execution_count": 1,
     "metadata": {},
     "output_type": "execute_result"
    }
   ],
   "source": [
    "all_filenames = sum([[os.path.join(dirpath, filename) for filename in filenames] for dirpath, _, filenames in os.walk('data')], [])\n",
    "\n",
    "f'Amount of books: {len(all_filenames)}'"
   ]
  },
  {
   "cell_type": "code",
   "execution_count": 6,
   "metadata": {},
   "outputs": [
    {
     "name": "stdout",
     "output_type": "stream",
     "text": [
      "data/0d/3348\n",
      "['Малката царкиня Боянка си имала бавачка. Казвали я Добрина. Отишла Добрина на пазар. Купила на Боянка канарче. Закачила го на прозореца в стаята.', '— Как се казва това жълто птиченце? — попитала Боянка.', '— Канарче — отговорила Добрина.', '— А де е неговата къщица?', '— На слънцето.']\n"
     ]
    }
   ],
   "source": [
    "book_path = all_filenames[1]\n",
    "print(book_path)\n",
    "with open(book_path, 'r') as file_descriptor:\n",
    "    lines = file_descriptor.readlines()\n",
    "    lines = [line.strip() for line in lines]\n",
    "\n",
    "print(lines[:5])"
   ]
  },
  {
   "cell_type": "code",
   "execution_count": 12,
   "metadata": {},
   "outputs": [
    {
     "data": {
      "text/plain": [
       "(0, 6)"
      ]
     },
     "execution_count": 12,
     "metadata": {},
     "output_type": "execute_result"
    }
   ],
   "source": [
    "def parse_emphasis(word: str):\n",
    "    \"\"\"\n",
    "    Input: а`виобра`нш\n",
    "    Output: [0, 6]\n",
    "    \"\"\"\n",
    "    emphasis_positions = [i for i, letter in enumerate(word) if letter == '`']\n",
    "\n",
    "    # i' = i - 1 - amount of previous ` symbols\n",
    "    corrected_emphasis_positions = tuple(position - 1 - i for i, position in enumerate(emphasis_positions))\n",
    "\n",
    "    return corrected_emphasis_positions\n",
    "\n",
    "parse_emphasis('а`виобра`нш')"
   ]
  },
  {
   "cell_type": "code",
   "execution_count": 13,
   "metadata": {},
   "outputs": [
    {
     "data": {
      "text/html": [
       "<div>\n",
       "<style scoped>\n",
       "    .dataframe tbody tr th:only-of-type {\n",
       "        vertical-align: middle;\n",
       "    }\n",
       "\n",
       "    .dataframe tbody tr th {\n",
       "        vertical-align: top;\n",
       "    }\n",
       "\n",
       "    .dataframe thead th {\n",
       "        text-align: right;\n",
       "    }\n",
       "</style>\n",
       "<table border=\"1\" class=\"dataframe\">\n",
       "  <thead>\n",
       "    <tr style=\"text-align: right;\">\n",
       "      <th></th>\n",
       "      <th>word</th>\n",
       "      <th>emphasis_indexes</th>\n",
       "    </tr>\n",
       "  </thead>\n",
       "  <tbody>\n",
       "    <tr>\n",
       "      <th>0</th>\n",
       "      <td>аванпост</td>\n",
       "      <td>(2,)</td>\n",
       "    </tr>\n",
       "    <tr>\n",
       "      <th>1</th>\n",
       "      <td>авиоас</td>\n",
       "      <td>(0, 4)</td>\n",
       "    </tr>\n",
       "    <tr>\n",
       "      <th>2</th>\n",
       "      <td>авиобос</td>\n",
       "      <td>(0, 5)</td>\n",
       "    </tr>\n",
       "    <tr>\n",
       "      <th>3</th>\n",
       "      <td>авиобранш</td>\n",
       "      <td>(0, 6)</td>\n",
       "    </tr>\n",
       "    <tr>\n",
       "      <th>4</th>\n",
       "      <td>авиоград</td>\n",
       "      <td>(0, 6)</td>\n",
       "    </tr>\n",
       "  </tbody>\n",
       "</table>\n",
       "</div>"
      ],
      "text/plain": [
       "        word emphasis_indexes\n",
       "0   аванпост             (2,)\n",
       "1     авиоас           (0, 4)\n",
       "2    авиобос           (0, 5)\n",
       "3  авиобранш           (0, 6)\n",
       "4   авиоград           (0, 6)"
      ]
     },
     "execution_count": 13,
     "metadata": {},
     "output_type": "execute_result"
    }
   ],
   "source": [
    "words = pd.read_csv('data/words.csv', header=None, names=['word', 'transcription'])\n",
    "\n",
    "\n",
    "words['emphasis_indexes'] = words['transcription'].apply(parse_emphasis)\n",
    "words.drop(columns=['transcription'], inplace=True)\n",
    "\n",
    "\n",
    "words.to_csv('data/emphasis.csv', index=False)\n",
    "words.head()\n"
   ]
  }
 ],
 "metadata": {
  "kernelspec": {
   "display_name": ".venv",
   "language": "python",
   "name": "python3"
  },
  "language_info": {
   "codemirror_mode": {
    "name": "ipython",
    "version": 3
   },
   "file_extension": ".py",
   "mimetype": "text/x-python",
   "name": "python",
   "nbconvert_exporter": "python",
   "pygments_lexer": "ipython3",
   "version": "3.10.9"
  },
  "orig_nbformat": 4,
  "vscode": {
   "interpreter": {
    "hash": "9690224c8ba08809808eb1dea2a550f7a1d7415f0de077dd69f40462bd6d7bb6"
   }
  }
 },
 "nbformat": 4,
 "nbformat_minor": 2
}
