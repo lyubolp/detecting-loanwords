{
 "cells": [
  {
   "cell_type": "code",
   "execution_count": 2,
   "metadata": {},
   "outputs": [],
   "source": [
    "import pandas as pd"
   ]
  },
  {
   "cell_type": "code",
   "execution_count": 3,
   "metadata": {},
   "outputs": [
    {
     "data": {
      "text/html": [
       "<div>\n",
       "<style scoped>\n",
       "    .dataframe tbody tr th:only-of-type {\n",
       "        vertical-align: middle;\n",
       "    }\n",
       "\n",
       "    .dataframe tbody tr th {\n",
       "        vertical-align: top;\n",
       "    }\n",
       "\n",
       "    .dataframe thead th {\n",
       "        text-align: right;\n",
       "    }\n",
       "</style>\n",
       "<table border=\"1\" class=\"dataframe\">\n",
       "  <thead>\n",
       "    <tr style=\"text-align: right;\">\n",
       "      <th></th>\n",
       "      <th>дума</th>\n",
       "      <th>произход</th>\n",
       "    </tr>\n",
       "  </thead>\n",
       "  <tbody>\n",
       "    <tr>\n",
       "      <th>0</th>\n",
       "      <td>коректен</td>\n",
       "      <td>латински</td>\n",
       "    </tr>\n",
       "    <tr>\n",
       "      <th>1</th>\n",
       "      <td>кукис</td>\n",
       "      <td>NaN</td>\n",
       "    </tr>\n",
       "    <tr>\n",
       "      <th>2</th>\n",
       "      <td>болдвам</td>\n",
       "      <td>английски</td>\n",
       "    </tr>\n",
       "    <tr>\n",
       "      <th>3</th>\n",
       "      <td>тъч</td>\n",
       "      <td>NaN</td>\n",
       "    </tr>\n",
       "    <tr>\n",
       "      <th>4</th>\n",
       "      <td>локация</td>\n",
       "      <td>френски</td>\n",
       "    </tr>\n",
       "  </tbody>\n",
       "</table>\n",
       "</div>"
      ],
      "text/plain": [
       "       дума   произход\n",
       "0  коректен   латински\n",
       "1     кукис        NaN\n",
       "2   болдвам  английски\n",
       "3       тъч        NaN\n",
       "4   локация    френски"
      ]
     },
     "execution_count": 3,
     "metadata": {},
     "output_type": "execute_result"
    }
   ],
   "source": [
    "df = pd.read_csv('/mnt/d/Projects/masters-thesis/data/loanwords_4uzhdica.csv')\n",
    "df.head()"
   ]
  },
  {
   "cell_type": "code",
   "execution_count": 4,
   "metadata": {},
   "outputs": [
    {
     "data": {
      "text/plain": [
       "английски            181\n",
       "турски                44\n",
       "Английски             38\n",
       "латински              27\n",
       "френски               23\n",
       "                    ... \n",
       "турски език            1\n",
       "от английски език      1\n",
       "Английски езйк         1\n",
       "Англия                 1\n",
       "от немски              1\n",
       "Name: произход, Length: 71, dtype: int64"
      ]
     },
     "execution_count": 4,
     "metadata": {},
     "output_type": "execute_result"
    }
   ],
   "source": [
    "df['произход'].value_counts()"
   ]
  },
  {
   "cell_type": "code",
   "execution_count": 5,
   "metadata": {},
   "outputs": [],
   "source": [
    "df = df.fillna('')"
   ]
  },
  {
   "cell_type": "code",
   "execution_count": 6,
   "metadata": {},
   "outputs": [
    {
     "data": {
      "text/plain": [
       "английски            181\n",
       "турски                44\n",
       "                      44\n",
       "Английски             38\n",
       "латински              27\n",
       "                    ... \n",
       "турски език            1\n",
       "от английски език      1\n",
       "Английски езйк         1\n",
       "Англия                 1\n",
       "от немски              1\n",
       "Name: произход, Length: 72, dtype: int64"
      ]
     },
     "execution_count": 6,
     "metadata": {},
     "output_type": "execute_result"
    }
   ],
   "source": [
    "df['произход'].value_counts()"
   ]
  },
  {
   "cell_type": "code",
   "execution_count": 7,
   "metadata": {},
   "outputs": [],
   "source": [
    "df['произход'] = df['произход'].apply(lambda x: x.lower().strip())"
   ]
  },
  {
   "cell_type": "code",
   "execution_count": 8,
   "metadata": {},
   "outputs": [
    {
     "data": {
      "text/plain": [
       "английски                                                                                                                                                                                                                                                                                                                                                                                                                            228\n",
       "турски                                                                                                                                                                                                                                                                                                                                                                                                                                62\n",
       "                                                                                                                                                                                                                                                                                                                                                                                                                                      44\n",
       "латински                                                                                                                                                                                                                                                                                                                                                                                                                              28\n",
       "френски                                                                                                                                                                                                                                                                                                                                                                                                                               27\n",
       "английски език                                                                                                                                                                                                                                                                                                                                                                                                                        22\n",
       "руски                                                                                                                                                                                                                                                                                                                                                                                                                                 16\n",
       "гръцки                                                                                                                                                                                                                                                                                                                                                                                                                                 7\n",
       "немски                                                                                                                                                                                                                                                                                                                                                                                                                                 7\n",
       "от английски                                                                                                                                                                                                                                                                                                                                                                                                                           7\n",
       "арабски                                                                                                                                                                                                                                                                                                                                                                                                                                6\n",
       "италиански                                                                                                                                                                                                                                                                                                                                                                                                                             6\n",
       "испански                                                                                                                                                                                                                                                                                                                                                                                                                               4\n",
       "сръбски                                                                                                                                                                                                                                                                                                                                                                                                                                4\n",
       "англия                                                                                                                                                                                                                                                                                                                                                                                                                                 4\n",
       "френски, английски                                                                                                                                                                                                                                                                                                                                                                                                                     4\n",
       "латински (през английски)                                                                                                                                                                                                                                                                                                                                                                                                              3\n",
       "персийски                                                                                                                                                                                                                                                                                                                                                                                                                              3\n",
       "латински, през френски, английски                                                                                                                                                                                                                                                                                                                                                                                                      2\n",
       "френски, латински                                                                                                                                                                                                                                                                                                                                                                                                                      2\n",
       "турски език                                                                                                                                                                                                                                                                                                                                                                                                                            2\n",
       "латински (през френски)                                                                                                                                                                                                                                                                                                                                                                                                                2\n",
       "английски !?                                                                                                                                                                                                                                                                                                                                                                                                                           2\n",
       "латински, френски                                                                                                                                                                                                                                                                                                                                                                                                                      1\n",
       "името на немската фирма за оптики zeiss                                                                                                                                                                                                                                                                                                                                                                                                1\n",
       "гръцки, с италиански корен                                                                                                                                                                                                                                                                                                                                                                                                             1\n",
       "турция                                                                                                                                                                                                                                                                                                                                                                                                                                 1\n",
       "арабски произход (през турски)                                                                                                                                                                                                                                                                                                                                                                                                         1\n",
       "понятието „дискурс“ е латинско по произход и идва от думата discursus, която означава „бягане напред-назад“. в английския думата е достигнала като discourse със следните значения: (1) словесна обмяна, разговор[2]; (2) общуване; (3) проповед; (4) умозаключение и др.  в българския понятието е възприето от английския и с него се означава следното: (1) слово; (2) словесен израз на мисълта; (3) способност за разбиране.      1\n",
       "английски, с латински корен                                                                                                                                                                                                                                                                                                                                                                                                            1\n",
       "тур                                                                                                                                                                                                                                                                                                                                                                                                                                    1\n",
       "латински произход                                                                                                                                                                                                                                                                                                                                                                                                                      1\n",
       "aнглийски                                                                                                                                                                                                                                                                                                                                                                                                                              1\n",
       "старогръцки                                                                                                                                                                                                                                                                                                                                                                                                                            1\n",
       "италиански, френски, немски                                                                                                                                                                                                                                                                                                                                                                                                            1\n",
       "нидерландскики                                                                                                                                                                                                                                                                                                                                                                                                                         1\n",
       "френски (през английски)                                                                                                                                                                                                                                                                                                                                                                                                               1\n",
       "френски език                                                                                                                                                                                                                                                                                                                                                                                                                           1\n",
       "американски/прабългарски                                                                                                                                                                                                                                                                                                                                                                                                               1\n",
       "немски, френски, латински                                                                                                                                                                                                                                                                                                                                                                                                              1\n",
       "англ.ез.                                                                                                                                                                                                                                                                                                                                                                                                                               1\n",
       "индийски                                                                                                                                                                                                                                                                                                                                                                                                                               1\n",
       "френски  (лек, леко)                                                                                                                                                                                                                                                                                                                                                                                                                   1\n",
       "османо-турски                                                                                                                                                                                                                                                                                                                                                                                                                          1\n",
       "пепсийски                                                                                                                                                                                                                                                                                                                                                                                                                              1\n",
       "турски, архаична заменка в българския и гръцкия език                                                                                                                                                                                                                                                                                                                                                                                   1\n",
       "италиански език                                                                                                                                                                                                                                                                                                                                                                                                                        1\n",
       "от английски език                                                                                                                                                                                                                                                                                                                                                                                                                      1\n",
       "английски езйк                                                                                                                                                                                                                                                                                                                                                                                                                         1\n",
       "румънски, френски                                                                                                                                                                                                                                                                                                                                                                                                                      1\n",
       "древногръцки                                                                                                                                                                                                                                                                                                                                                                                                                           1\n",
       "дума с френски произход                                                                                                                                                                                                                                                                                                                                                                                                                1\n",
       "новогръцки                                                                                                                                                                                                                                                                                                                                                                                                                             1\n",
       "от немски                                                                                                                                                                                                                                                                                                                                                                                                                              1\n",
       "Name: произход, dtype: int64"
      ]
     },
     "execution_count": 8,
     "metadata": {},
     "output_type": "execute_result"
    }
   ],
   "source": [
    "df['произход'].value_counts()"
   ]
  },
  {
   "cell_type": "code",
   "execution_count": 9,
   "metadata": {},
   "outputs": [],
   "source": [
    "languages = {\n",
    "    'английски': 'en',\n",
    "    'aнглийски': 'en',\n",
    "    'от английски': 'en',\n",
    "    'английски език': 'en',\n",
    "    'англия': 'en',\n",
    "    'английски !?': 'en',\n",
    "    'англ.ез.': 'en',\n",
    "    'от английски език': 'en',\n",
    "    'английски, с латински корен': 'en',\n",
    "    'английски езйк': 'en',\n",
    "\n",
    "    'турски': 'tr',\n",
    "    'турски език': 'tr',\n",
    "    'турски, архаична заменка в българския и гръцкия език': 'tr',\n",
    "    'турция': 'tr',\n",
    "    'тур': 'tr',\n",
    "    'османо-турски': 'tr',\n",
    "    \n",
    "    'латински': 'la',\n",
    "    'латински (през английски)': 'la',\n",
    "    'латински, през френски, английски': 'la',\n",
    "    'латински (през френски)': 'la',\n",
    "    'латински, френски': 'la',\n",
    "    'латински произход': 'la',\n",
    "\n",
    "    'френски': 'fr',\n",
    "    'френски, английски': 'fr',\n",
    "    'френски, латински': 'fr',\n",
    "    'френски (през английски)': 'fr',\n",
    "    'френски език': 'fr',\n",
    "    'дума с френски произход': 'fr',\n",
    "    'френски  (лек, леко)': 'fr',\n",
    "\n",
    "    'руски': 'ru',\n",
    "\n",
    "    'гръцки': 'el',\n",
    "    'гръцки, с италиански корен': 'el',\n",
    "    'новогръцки': 'el',\n",
    "    'древногръцки': 'el',\n",
    "    'старогръцки': 'el',\n",
    "\n",
    "\n",
    "    'немски': 'de',\n",
    "    'името на немската фирма за оптики zeiss': 'de',\n",
    "    'немски, френски, латински': 'de',\n",
    "    'от немски': 'de',\n",
    "\n",
    "    'италиански': 'it',\n",
    "    'италиански език': 'it',\n",
    "    'италиански, френски, немски': 'it',\n",
    "\n",
    "    'арабски': 'ar',\n",
    "    'арабски произход (през турски)': 'ar',\n",
    "\n",
    "    'испански': 'es',\n",
    "    'сръбски': 'sr',\n",
    "    'персийски': 'fa',\n",
    "    'румънски, френски': 'ro',\n",
    "\n",
    "    'индийски': '',\n",
    "    'нидерландскики': '',\n",
    "    'пепсийски': '',\n",
    "    'американски/прабългарски': ''\n",
    "\n",
    "}"
   ]
  },
  {
   "cell_type": "code",
   "execution_count": 10,
   "metadata": {},
   "outputs": [],
   "source": [
    "df['произход'] = df['произход'].apply(lambda x: languages[x] if x in languages else x)"
   ]
  },
  {
   "cell_type": "code",
   "execution_count": null,
   "metadata": {},
   "outputs": [],
   "source": []
  },
  {
   "cell_type": "code",
   "execution_count": 11,
   "metadata": {},
   "outputs": [
    {
     "data": {
      "text/plain": [
       "en                                                                                                                                                                                                                                                                                                                                                                                                                                   268\n",
       "tr                                                                                                                                                                                                                                                                                                                                                                                                                                    68\n",
       "                                                                                                                                                                                                                                                                                                                                                                                                                                      48\n",
       "la                                                                                                                                                                                                                                                                                                                                                                                                                                    37\n",
       "fr                                                                                                                                                                                                                                                                                                                                                                                                                                    37\n",
       "ru                                                                                                                                                                                                                                                                                                                                                                                                                                    16\n",
       "el                                                                                                                                                                                                                                                                                                                                                                                                                                    11\n",
       "de                                                                                                                                                                                                                                                                                                                                                                                                                                    10\n",
       "it                                                                                                                                                                                                                                                                                                                                                                                                                                     8\n",
       "ar                                                                                                                                                                                                                                                                                                                                                                                                                                     7\n",
       "sr                                                                                                                                                                                                                                                                                                                                                                                                                                     4\n",
       "es                                                                                                                                                                                                                                                                                                                                                                                                                                     4\n",
       "fa                                                                                                                                                                                                                                                                                                                                                                                                                                     3\n",
       "ro                                                                                                                                                                                                                                                                                                                                                                                                                                     1\n",
       "понятието „дискурс“ е латинско по произход и идва от думата discursus, която означава „бягане напред-назад“. в английския думата е достигнала като discourse със следните значения: (1) словесна обмяна, разговор[2]; (2) общуване; (3) проповед; (4) умозаключение и др.  в българския понятието е възприето от английския и с него се означава следното: (1) слово; (2) словесен израз на мисълта; (3) способност за разбиране.      1\n",
       "Name: произход, dtype: int64"
      ]
     },
     "execution_count": 11,
     "metadata": {},
     "output_type": "execute_result"
    }
   ],
   "source": [
    "df['произход'].value_counts()"
   ]
  },
  {
   "cell_type": "code",
   "execution_count": 12,
   "metadata": {},
   "outputs": [],
   "source": [
    "df.to_csv('/mnt/d/Projects/masters-thesis/data/loanwords_4uzhdica_processed.csv', index=False)"
   ]
  }
 ],
 "metadata": {
  "kernelspec": {
   "display_name": ".venv",
   "language": "python",
   "name": "python3"
  },
  "language_info": {
   "codemirror_mode": {
    "name": "ipython",
    "version": 3
   },
   "file_extension": ".py",
   "mimetype": "text/x-python",
   "name": "python",
   "nbconvert_exporter": "python",
   "pygments_lexer": "ipython3",
   "version": "3.10.12"
  },
  "orig_nbformat": 4
 },
 "nbformat": 4,
 "nbformat_minor": 2
}
