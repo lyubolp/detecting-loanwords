{
 "cells": [
  {
   "cell_type": "code",
   "execution_count": 2,
   "metadata": {},
   "outputs": [],
   "source": [
    "import pandas as pd\n",
    "import seaborn as sns"
   ]
  },
  {
   "cell_type": "code",
   "execution_count": 3,
   "metadata": {},
   "outputs": [
    {
     "data": {
      "text/html": [
       "<div>\n",
       "<style scoped>\n",
       "    .dataframe tbody tr th:only-of-type {\n",
       "        vertical-align: middle;\n",
       "    }\n",
       "\n",
       "    .dataframe tbody tr th {\n",
       "        vertical-align: top;\n",
       "    }\n",
       "\n",
       "    .dataframe thead th {\n",
       "        text-align: right;\n",
       "    }\n",
       "</style>\n",
       "<table border=\"1\" class=\"dataframe\">\n",
       "  <thead>\n",
       "    <tr style=\"text-align: right;\">\n",
       "      <th></th>\n",
       "      <th>дума</th>\n",
       "      <th>произход</th>\n",
       "    </tr>\n",
       "  </thead>\n",
       "  <tbody>\n",
       "    <tr>\n",
       "      <th>0</th>\n",
       "      <td>кабинет</td>\n",
       "      <td>fr</td>\n",
       "    </tr>\n",
       "    <tr>\n",
       "      <th>1</th>\n",
       "      <td>шницел</td>\n",
       "      <td>de</td>\n",
       "    </tr>\n",
       "    <tr>\n",
       "      <th>2</th>\n",
       "      <td>радикулит</td>\n",
       "      <td>la</td>\n",
       "    </tr>\n",
       "    <tr>\n",
       "      <th>3</th>\n",
       "      <td>ламе</td>\n",
       "      <td>fr</td>\n",
       "    </tr>\n",
       "    <tr>\n",
       "      <th>4</th>\n",
       "      <td>нафта</td>\n",
       "      <td>el</td>\n",
       "    </tr>\n",
       "    <tr>\n",
       "      <th>...</th>\n",
       "      <td>...</td>\n",
       "      <td>...</td>\n",
       "    </tr>\n",
       "    <tr>\n",
       "      <th>36039</th>\n",
       "      <td>покрайнина</td>\n",
       "      <td>bg</td>\n",
       "    </tr>\n",
       "    <tr>\n",
       "      <th>36040</th>\n",
       "      <td>климат</td>\n",
       "      <td>bg</td>\n",
       "    </tr>\n",
       "    <tr>\n",
       "      <th>36041</th>\n",
       "      <td>искала</td>\n",
       "      <td>bg</td>\n",
       "    </tr>\n",
       "    <tr>\n",
       "      <th>36042</th>\n",
       "      <td>3600</td>\n",
       "      <td>bg</td>\n",
       "    </tr>\n",
       "    <tr>\n",
       "      <th>36043</th>\n",
       "      <td>влечение</td>\n",
       "      <td>bg</td>\n",
       "    </tr>\n",
       "  </tbody>\n",
       "</table>\n",
       "<p>36044 rows × 2 columns</p>\n",
       "</div>"
      ],
      "text/plain": [
       "             дума произход\n",
       "0         кабинет       fr\n",
       "1          шницел       de\n",
       "2       радикулит       la\n",
       "3            ламе       fr\n",
       "4           нафта       el\n",
       "...           ...      ...\n",
       "36039  покрайнина       bg\n",
       "36040      климат       bg\n",
       "36041      искала       bg\n",
       "36042        3600       bg\n",
       "36043    влечение       bg\n",
       "\n",
       "[36044 rows x 2 columns]"
      ]
     },
     "execution_count": 3,
     "metadata": {},
     "output_type": "execute_result"
    }
   ],
   "source": [
    "df = pd.read_csv('/mnt/d/Projects/masters-thesis/data/loanwords_2.csv')\n",
    "df"
   ]
  },
  {
   "cell_type": "code",
   "execution_count": 17,
   "metadata": {},
   "outputs": [
    {
     "name": "stdout",
     "output_type": "stream",
     "text": [
      "\\hline\n",
      "bg & 30876 & 85.66\\% \\\\\n",
      "\\hline\n",
      "la & 1504 & 4.17\\% \\\\\n",
      "\\hline\n",
      "el & 984 & 2.73\\% \\\\\n",
      "\\hline\n",
      "fr & 958 & 2.66\\% \\\\\n",
      "\\hline\n",
      "tr & 658 & 1.83\\% \\\\\n",
      "\\hline\n",
      "en & 478 & 1.33\\% \\\\\n",
      "\\hline\n",
      "de & 240 & 0.67\\% \\\\\n",
      "\\hline\n",
      "it & 156 & 0.43\\% \\\\\n",
      "\\hline\n",
      "ru & 102 & 0.28\\% \\\\\n",
      "\\hline\n",
      "es & 33 & 0.09\\% \\\\\n",
      "\\hline\n",
      "du & 29 & 0.08\\% \\\\\n",
      "\\hline\n",
      "he & 11 & 0.03\\% \\\\\n",
      "\\hline\n",
      "ar & 7 & 0.02\\% \\\\\n",
      "\\hline\n",
      "sr & 4 & 0.01\\% \\\\\n",
      "\\hline\n",
      "fa & 3 & 0.01\\% \\\\\n",
      "\\hline\n",
      "ro & 1 & 0.00\\% \\\\\n"
     ]
    }
   ],
   "source": [
    "total = sum(df['произход'].value_counts())\n",
    "\n",
    "for language, count in df['произход'].value_counts().items():\n",
    "    print(\"\\hline\")\n",
    "    print(f'{language} & {count} & {(count/total*100):.2f}\\\\% \\\\\\\\')"
   ]
  },
  {
   "cell_type": "code",
   "execution_count": 5,
   "metadata": {},
   "outputs": [
    {
     "data": {
      "text/plain": [
       "<Axes: xlabel='произход', ylabel='Percent'>"
      ]
     },
     "execution_count": 5,
     "metadata": {},
     "output_type": "execute_result"
    },
    {
     "data": {
      "image/png": "[encoded data removed]",
      "text/plain": [
       "<Figure size 640x480 with 1 Axes>"
      ]
     },
     "metadata": {},
     "output_type": "display_data"
    }
   ],
   "source": [
    "sns.histplot(x='произход', data=df, stat='percent', discrete=True)"
   ]
  },
  {
   "cell_type": "markdown",
   "metadata": {},
   "source": [
    "## Lengths"
   ]
  },
  {
   "cell_type": "code",
   "execution_count": 10,
   "metadata": {},
   "outputs": [],
   "source": [
    "import sys\n",
    "\n",
    "sys.path.append('/home/lyubolp/detecting-loanwords')"
   ]
  },
  {
   "cell_type": "code",
   "execution_count": 11,
   "metadata": {},
   "outputs": [],
   "source": [
    "from src.dataset_utils import tokenize_source"
   ]
  },
  {
   "cell_type": "code",
   "execution_count": 13,
   "metadata": {},
   "outputs": [
    {
     "data": {
      "text/plain": [
       "0             [ка, би, нет]\n",
       "1                [шни, цел]\n",
       "2         [ра, ди, ку, лит]\n",
       "3                  [ла, ме]\n",
       "4                 [наф, та]\n",
       "                ...        \n",
       "36039    [пок, рай, ни, на]\n",
       "36040            [кли, мат]\n",
       "36041          [ис, ка, ла]\n",
       "36042                [3600]\n",
       "36043      [вле, че, ни, е]\n",
       "Name: дума, Length: 36044, dtype: object"
      ]
     },
     "execution_count": 13,
     "metadata": {},
     "output_type": "execute_result"
    }
   ],
   "source": [
    "syllables = df['дума'].apply(lambda word: tokenize_source(word))\n",
    "syllables"
   ]
  },
  {
   "cell_type": "code",
   "execution_count": 15,
   "metadata": {},
   "outputs": [
    {
     "data": {
      "text/plain": [
       "3     12395\n",
       "4      8563\n",
       "2      7820\n",
       "5      3427\n",
       "1      2435\n",
       "6      1048\n",
       "7       271\n",
       "8        61\n",
       "9        17\n",
       "10        4\n",
       "11        2\n",
       "12        1\n",
       "Name: дума, dtype: int64"
      ]
     },
     "execution_count": 15,
     "metadata": {},
     "output_type": "execute_result"
    }
   ],
   "source": [
    "syllables.apply(lambda syllables: len(syllables)).value_counts()"
   ]
  }
 ],
 "metadata": {
  "kernelspec": {
   "display_name": ".venv",
   "language": "python",
   "name": "python3"
  },
  "language_info": {
   "codemirror_mode": {
    "name": "ipython",
    "version": 3
   },
   "file_extension": ".py",
   "mimetype": "text/x-python",
   "name": "python",
   "nbconvert_exporter": "python",
   "pygments_lexer": "ipython3",
   "version": "3.10.12"
  },
  "orig_nbformat": 4
 },
 "nbformat": 4,
 "nbformat_minor": 2
}
