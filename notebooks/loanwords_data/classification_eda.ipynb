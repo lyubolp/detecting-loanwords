{
 "cells": [
  {
   "cell_type": "code",
   "execution_count": 1,
   "metadata": {},
   "outputs": [],
   "source": [
    "import pandas as pd\n",
    "import seaborn as sns"
   ]
  },
  {
   "cell_type": "code",
   "execution_count": 2,
   "metadata": {},
   "outputs": [
    {
     "data": {
      "text/html": [
       "<div>\n",
       "<style scoped>\n",
       "    .dataframe tbody tr th:only-of-type {\n",
       "        vertical-align: middle;\n",
       "    }\n",
       "\n",
       "    .dataframe tbody tr th {\n",
       "        vertical-align: top;\n",
       "    }\n",
       "\n",
       "    .dataframe thead th {\n",
       "        text-align: right;\n",
       "    }\n",
       "</style>\n",
       "<table border=\"1\" class=\"dataframe\">\n",
       "  <thead>\n",
       "    <tr style=\"text-align: right;\">\n",
       "      <th></th>\n",
       "      <th>дума</th>\n",
       "      <th>произход</th>\n",
       "    </tr>\n",
       "  </thead>\n",
       "  <tbody>\n",
       "    <tr>\n",
       "      <th>0</th>\n",
       "      <td>кабинет</td>\n",
       "      <td>fr</td>\n",
       "    </tr>\n",
       "    <tr>\n",
       "      <th>1</th>\n",
       "      <td>шницел</td>\n",
       "      <td>de</td>\n",
       "    </tr>\n",
       "    <tr>\n",
       "      <th>2</th>\n",
       "      <td>радикулит</td>\n",
       "      <td>la</td>\n",
       "    </tr>\n",
       "    <tr>\n",
       "      <th>3</th>\n",
       "      <td>ламе</td>\n",
       "      <td>fr</td>\n",
       "    </tr>\n",
       "    <tr>\n",
       "      <th>4</th>\n",
       "      <td>нафта</td>\n",
       "      <td>el</td>\n",
       "    </tr>\n",
       "    <tr>\n",
       "      <th>...</th>\n",
       "      <td>...</td>\n",
       "      <td>...</td>\n",
       "    </tr>\n",
       "    <tr>\n",
       "      <th>5163</th>\n",
       "      <td>сензор</td>\n",
       "      <td>en</td>\n",
       "    </tr>\n",
       "    <tr>\n",
       "      <th>5164</th>\n",
       "      <td>културтрегер</td>\n",
       "      <td>de</td>\n",
       "    </tr>\n",
       "    <tr>\n",
       "      <th>5165</th>\n",
       "      <td>енергия</td>\n",
       "      <td>en</td>\n",
       "    </tr>\n",
       "    <tr>\n",
       "      <th>5166</th>\n",
       "      <td>роуст/роуствам</td>\n",
       "      <td>en</td>\n",
       "    </tr>\n",
       "    <tr>\n",
       "      <th>5167</th>\n",
       "      <td>дип</td>\n",
       "      <td>en</td>\n",
       "    </tr>\n",
       "  </tbody>\n",
       "</table>\n",
       "<p>5168 rows × 2 columns</p>\n",
       "</div>"
      ],
      "text/plain": [
       "                дума произход\n",
       "0            кабинет       fr\n",
       "1             шницел       de\n",
       "2          радикулит       la\n",
       "3               ламе       fr\n",
       "4              нафта       el\n",
       "...              ...      ...\n",
       "5163          сензор       en\n",
       "5164    културтрегер       de\n",
       "5165         енергия       en\n",
       "5166  роуст/роуствам       en\n",
       "5167             дип       en\n",
       "\n",
       "[5168 rows x 2 columns]"
      ]
     },
     "execution_count": 2,
     "metadata": {},
     "output_type": "execute_result"
    }
   ],
   "source": [
    "df = pd.read_csv('/mnt/d/Projects/masters-thesis/data/loanwords_only.csv')\n",
    "df"
   ]
  },
  {
   "cell_type": "code",
   "execution_count": 3,
   "metadata": {},
   "outputs": [
    {
     "name": "stdout",
     "output_type": "stream",
     "text": [
      "\\hline\n",
      "la & 1504 & 29.10\\% \\\\\n",
      "\\hline\n",
      "el & 984 & 19.04\\% \\\\\n",
      "\\hline\n",
      "fr & 958 & 18.54\\% \\\\\n",
      "\\hline\n",
      "tr & 658 & 12.73\\% \\\\\n",
      "\\hline\n",
      "en & 478 & 9.25\\% \\\\\n",
      "\\hline\n",
      "de & 240 & 4.64\\% \\\\\n",
      "\\hline\n",
      "it & 156 & 3.02\\% \\\\\n",
      "\\hline\n",
      "ru & 102 & 1.97\\% \\\\\n",
      "\\hline\n",
      "es & 33 & 0.64\\% \\\\\n",
      "\\hline\n",
      "du & 29 & 0.56\\% \\\\\n",
      "\\hline\n",
      "he & 11 & 0.21\\% \\\\\n",
      "\\hline\n",
      "ar & 7 & 0.14\\% \\\\\n",
      "\\hline\n",
      "sr & 4 & 0.08\\% \\\\\n",
      "\\hline\n",
      "fa & 3 & 0.06\\% \\\\\n",
      "\\hline\n",
      "ro & 1 & 0.02\\% \\\\\n"
     ]
    }
   ],
   "source": [
    "total = sum(df['произход'].value_counts())\n",
    "\n",
    "for language, count in df['произход'].value_counts().items():\n",
    "    print(\"\\hline\")\n",
    "    print(f'{language} & {count} & {(count/total*100):.2f}\\\\% \\\\\\\\')"
   ]
  },
  {
   "cell_type": "code",
   "execution_count": 4,
   "metadata": {},
   "outputs": [
    {
     "data": {
      "text/plain": [
       "<Axes: xlabel='произход', ylabel='Percent'>"
      ]
     },
     "execution_count": 4,
     "metadata": {},
     "output_type": "execute_result"
    },
    {
     "data": {
      "image/png": "[encoded data removed]",
      "text/plain": [
       "<Figure size 640x480 with 1 Axes>"
      ]
     },
     "metadata": {},
     "output_type": "display_data"
    }
   ],
   "source": [
    "sns.histplot(x='произход', data=df, stat='percent', discrete=True)"
   ]
  },
  {
   "cell_type": "markdown",
   "metadata": {},
   "source": [
    "## Lengths"
   ]
  },
  {
   "cell_type": "code",
   "execution_count": 10,
   "metadata": {},
   "outputs": [],
   "source": [
    "import sys\n",
    "\n",
    "sys.path.append('/home/lyubolp/detecting-loanwords')"
   ]
  },
  {
   "cell_type": "code",
   "execution_count": 11,
   "metadata": {},
   "outputs": [],
   "source": [
    "from src.dataset_utils import tokenize_source"
   ]
  },
  {
   "cell_type": "code",
   "execution_count": 13,
   "metadata": {},
   "outputs": [
    {
     "data": {
      "text/plain": [
       "0             [ка, би, нет]\n",
       "1                [шни, цел]\n",
       "2         [ра, ди, ку, лит]\n",
       "3                  [ла, ме]\n",
       "4                 [наф, та]\n",
       "                ...        \n",
       "36039    [пок, рай, ни, на]\n",
       "36040            [кли, мат]\n",
       "36041          [ис, ка, ла]\n",
       "36042                [3600]\n",
       "36043      [вле, че, ни, е]\n",
       "Name: дума, Length: 36044, dtype: object"
      ]
     },
     "execution_count": 13,
     "metadata": {},
     "output_type": "execute_result"
    }
   ],
   "source": [
    "syllables = df['дума'].apply(lambda word: tokenize_source(word))\n",
    "syllables"
   ]
  },
  {
   "cell_type": "code",
   "execution_count": 15,
   "metadata": {},
   "outputs": [
    {
     "data": {
      "text/plain": [
       "3     12395\n",
       "4      8563\n",
       "2      7820\n",
       "5      3427\n",
       "1      2435\n",
       "6      1048\n",
       "7       271\n",
       "8        61\n",
       "9        17\n",
       "10        4\n",
       "11        2\n",
       "12        1\n",
       "Name: дума, dtype: int64"
      ]
     },
     "execution_count": 15,
     "metadata": {},
     "output_type": "execute_result"
    }
   ],
   "source": [
    "syllables.apply(lambda syllables: len(syllables)).value_counts()"
   ]
  }
 ],
 "metadata": {
  "kernelspec": {
   "display_name": ".venv",
   "language": "python",
   "name": "python3"
  },
  "language_info": {
   "codemirror_mode": {
    "name": "ipython",
    "version": 3
   },
   "file_extension": ".py",
   "mimetype": "text/x-python",
   "name": "python",
   "nbconvert_exporter": "python",
   "pygments_lexer": "ipython3",
   "version": "3.10.12"
  },
  "orig_nbformat": 4
 },
 "nbformat": 4,
 "nbformat_minor": 2
}
