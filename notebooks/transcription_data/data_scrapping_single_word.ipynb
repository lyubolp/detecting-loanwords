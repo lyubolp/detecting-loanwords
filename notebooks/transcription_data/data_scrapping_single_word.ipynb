{
 "cells": [
  {
   "cell_type": "code",
   "execution_count": 1,
   "metadata": {},
   "outputs": [],
   "source": [
    "import string\n",
    "from collections import Counter\n",
    "\n",
    "from nltk.tokenize import word_tokenize\n",
    "\n",
    "import numpy as np\n",
    "import pandas as pd\n",
    "import matplotlib.pyplot as plt\n",
    "import seaborn as sns\n",
    "import tqdm\n",
    "\n",
    "from src.dataset_utils import load_files\n",
    "from src.syllable_splitter import split_word"
   ]
  },
  {
   "cell_type": "code",
   "execution_count": 2,
   "metadata": {},
   "outputs": [],
   "source": [
    "files = load_files('/mnt/d/Projects/masters-thesis/data/transcriptions')\n",
    "\n",
    "target_files = files[1:6]"
   ]
  },
  {
   "cell_type": "code",
   "execution_count": 4,
   "metadata": {},
   "outputs": [],
   "source": [
    "# with open('/mnt/d/Projects/masters-thesis/data/single_words.txt', 'w+') as f:\n",
    "#     for file_path in target_files:\n",
    "#         sample = pd.read_csv(file_path)\n",
    "#         sample['split'] = sample['sentence'].apply(word_tokenize)\n",
    "#         sample['split_transcription'] = sample['transcription'].apply(word_tokenize)\n",
    "\n",
    "#         words = sample['split'].sum()\n",
    "#         transcriptions = sample['split_transcription'].sum()\n",
    "        \n",
    "#         words = [word for word in words if word not in string.punctuation + '\"' + '“' + '—' + '”']\n",
    "#         transcriptions = [word for word in transcriptions if word not in string.punctuation + '\"' + '“' + '—' + '”']\n",
    "\n",
    "        \n",
    "#         for word, transcription in zip(words, transcriptions):\n",
    "#             f.write(f'{word}, {transcription}\\n')"
   ]
  },
  {
   "cell_type": "code",
   "execution_count": 5,
   "metadata": {},
   "outputs": [
    {
     "name": "stdout",
     "output_type": "stream",
     "text": [
      "606102 /mnt/d/Projects/masters-thesis/data/single_words.txt\n"
     ]
    }
   ],
   "source": [
    "!wc -l /mnt/d/Projects/masters-thesis/data/single_words.txt"
   ]
  },
  {
   "cell_type": "code",
   "execution_count": 32,
   "metadata": {},
   "outputs": [],
   "source": [
    "with open('/mnt/d/Projects/masters-thesis/data/single_words.txt') as fp:\n",
    "    content = fp.readlines()"
   ]
  },
  {
   "cell_type": "code",
   "execution_count": 33,
   "metadata": {},
   "outputs": [],
   "source": [
    "content = [item.split(',') for item in content]\n",
    "words = [word.strip() for word, _ in content]\n",
    "transcriptions = [transcription.strip() for _, transcription in content]\n",
    "\n",
    "size = len(content)"
   ]
  },
  {
   "cell_type": "code",
   "execution_count": 34,
   "metadata": {},
   "outputs": [
    {
     "data": {
      "text/plain": [
       "39405"
      ]
     },
     "execution_count": 34,
     "metadata": {},
     "output_type": "execute_result"
    }
   ],
   "source": [
    "word_count = Counter(words)\n",
    "\n",
    "len(word_count)"
   ]
  },
  {
   "cell_type": "code",
   "execution_count": 35,
   "metadata": {},
   "outputs": [
    {
     "name": "stdout",
     "output_type": "stream",
     "text": [
      "на & 20369 & 3.36\\% \\\\\n",
      "\\hline\n",
      "да & 20311 & 3.35\\% \\\\\n",
      "\\hline\n",
      "и & 20048 & 3.31\\% \\\\\n",
      "\\hline\n",
      "се & 16139 & 2.66\\% \\\\\n",
      "\\hline\n",
      "в & 10114 & 1.67\\% \\\\\n",
      "\\hline\n",
      "от & 9666 & 1.59\\% \\\\\n",
      "\\hline\n",
      "не & 8151 & 1.34\\% \\\\\n",
      "\\hline\n",
      "си & 7617 & 1.26\\% \\\\\n",
      "\\hline\n",
      "с & 7160 & 1.18\\% \\\\\n",
      "\\hline\n",
      "че & 6724 & 1.11\\% \\\\\n",
      "\\hline\n"
     ]
    }
   ],
   "source": [
    "for word, count in word_count.most_common(10):\n",
    "    print(f'{word} & {count} & {count/size*100:.2f}\\\\% \\\\\\\\')\n",
    "    print('\\\\hline')"
   ]
  },
  {
   "cell_type": "code",
   "execution_count": 38,
   "metadata": {},
   "outputs": [
    {
     "ename": "TypeError",
     "evalue": "unsupported operand type(s) for +: 'int' and 'tuple'",
     "output_type": "error",
     "traceback": [
      "\u001b[0;31m---------------------------------------------------------------------------\u001b[0m",
      "\u001b[0;31mTypeError\u001b[0m                                 Traceback (most recent call last)",
      "Cell \u001b[0;32mIn[38], line 4\u001b[0m\n\u001b[1;32m      1\u001b[0m word_lenghts \u001b[38;5;241m=\u001b[39m [\u001b[38;5;28mlen\u001b[39m(word) \u001b[38;5;28;01mfor\u001b[39;00m word \u001b[38;5;129;01min\u001b[39;00m words]\n\u001b[1;32m      3\u001b[0m word_lengths_counter \u001b[38;5;241m=\u001b[39m Counter(word_lenghts)\n\u001b[0;32m----> 4\u001b[0m word_lengths_counter_size \u001b[38;5;241m=\u001b[39m \u001b[38;5;28;43msum\u001b[39;49m\u001b[43m(\u001b[49m\u001b[43mword_lengths_counter\u001b[49m\u001b[38;5;241;43m.\u001b[39;49m\u001b[43mitems\u001b[49m\u001b[43m(\u001b[49m\u001b[43m)\u001b[49m\u001b[43m)\u001b[49m\n\u001b[1;32m      6\u001b[0m word_lengths_counter\u001b[38;5;241m.\u001b[39mmost_common(\u001b[38;5;241m5\u001b[39m)\n",
      "\u001b[0;31mTypeError\u001b[0m: unsupported operand type(s) for +: 'int' and 'tuple'"
     ]
    }
   ],
   "source": [
    "word_lenghts = [len(word) for word in words]\n",
    "\n",
    "word_lengths_counter = Counter(word_lenghts)"
   ]
  },
  {
   "cell_type": "code",
   "execution_count": 72,
   "metadata": {},
   "outputs": [
    {
     "data": {
      "image/png": "[encoded data removed]",
      "text/plain": [
       "<Figure size 640x480 with 1 Axes>"
      ]
     },
     "metadata": {},
     "output_type": "display_data"
    }
   ],
   "source": [
    "x = np.array(list(word_lengths_counter.keys()))\n",
    "\n",
    "\n",
    "y = np.array(list(word_lengths_counter.values()))\n",
    "y = y / size * 100\n",
    "\n",
    "\n",
    "fig, ax = plt.subplots()\n",
    "\n",
    "\n",
    "ax.bar(x, y)\n",
    "ax.set_xticks(np.arange(len(x)))\n",
    "ax.set_ylim([0, 25])\n",
    "ax.set_xlabel('Word length')\n",
    "ax.set_ylabel('Percentage of words')\n",
    "ax.set_title('Percentage of words with a given length')\n",
    "\n",
    "plt.show()"
   ]
  },
  {
   "cell_type": "code",
   "execution_count": 8,
   "metadata": {},
   "outputs": [
    {
     "data": {
      "text/plain": [
       "4.673389957465905"
      ]
     },
     "execution_count": 8,
     "metadata": {},
     "output_type": "execute_result"
    }
   ],
   "source": [
    "sum(word_lenghts) / len(word_lenghts)"
   ]
  },
  {
   "cell_type": "code",
   "execution_count": 40,
   "metadata": {},
   "outputs": [
    {
     "name": "stdout",
     "output_type": "stream",
     "text": [
      "2 & 141574 & 23.36\\% \\\\\n",
      "\\hline\n",
      "6 & 76666 & 12.65\\% \\\\\n",
      "\\hline\n",
      "5 & 74561 & 12.30\\% \\\\\n",
      "\\hline\n",
      "4 & 72930 & 12.03\\% \\\\\n",
      "\\hline\n",
      "7 & 53716 & 8.86\\% \\\\\n",
      "\\hline\n"
     ]
    }
   ],
   "source": [
    "\n",
    "for length, count in word_lengths_counter.most_common(5):\n",
    "    print(f'{length} & {count} & {count/size*100:.2f}\\\\% \\\\\\\\')\n",
    "    print('\\\\hline')"
   ]
  },
  {
   "cell_type": "code",
   "execution_count": 9,
   "metadata": {},
   "outputs": [],
   "source": [
    "counts = np.array(list(word_count.values()))"
   ]
  },
  {
   "cell_type": "code",
   "execution_count": 10,
   "metadata": {},
   "outputs": [
    {
     "data": {
      "text/plain": [
       "'mean=15.381, median=2.000, variance=58989.763, stdev=242.878, percentiles=array([ 1.,  2.,  5., 31.])'"
      ]
     },
     "execution_count": 10,
     "metadata": {},
     "output_type": "execute_result"
    }
   ],
   "source": [
    "mean = np.mean(counts)\n",
    "median = np.median(counts)\n",
    "variance = np.var(counts)\n",
    "stdev = np.std(counts)\n",
    "percentiles = np.percentile(counts, [25, 50, 75, 95])\n",
    "\n",
    "f'{mean=:.3f}, {median=:.3f}, {variance=:.3f}, {stdev=:.3f}, {percentiles=}'"
   ]
  },
  {
   "cell_type": "code",
   "execution_count": 74,
   "metadata": {},
   "outputs": [],
   "source": [
    "syllables = [split_word(word) for word in words]"
   ]
  },
  {
   "cell_type": "code",
   "execution_count": 75,
   "metadata": {},
   "outputs": [
    {
     "name": "stderr",
     "output_type": "stream",
     "text": [
      "100%|██████████| 606102/606102 [00:00<00:00, 5077852.43it/s]\n"
     ]
    }
   ],
   "source": [
    "flat_syllables = []\n",
    "for word in tqdm.tqdm(syllables):\n",
    "    flat_syllables += word"
   ]
  },
  {
   "cell_type": "code",
   "execution_count": 10,
   "metadata": {},
   "outputs": [],
   "source": [
    "syllables_count = Counter(flat_syllables)"
   ]
  },
  {
   "cell_type": "code",
   "execution_count": 14,
   "metadata": {},
   "outputs": [
    {
     "data": {
      "text/plain": [
       "(5469, 1222793)"
      ]
     },
     "execution_count": 14,
     "metadata": {},
     "output_type": "execute_result"
    }
   ],
   "source": [
    "len(syllables_count), len(flat_syllables)"
   ]
  },
  {
   "cell_type": "code",
   "execution_count": 12,
   "metadata": {},
   "outputs": [
    {
     "name": "stdout",
     "output_type": "stream",
     "text": [
      "на & 53107 & 8.76\\% \\\\\n",
      "\\hline\n",
      "то & 34352 & 5.67\\% \\\\\n",
      "\\hline\n",
      "та & 32000 & 5.28\\% \\\\\n",
      "\\hline\n",
      "и & 30720 & 5.07\\% \\\\\n",
      "\\hline\n",
      "да & 28596 & 4.72\\% \\\\\n",
      "\\hline\n",
      "ни & 23501 & 3.88\\% \\\\\n",
      "\\hline\n",
      "те & 22548 & 3.72\\% \\\\\n",
      "\\hline\n",
      "ка & 22094 & 3.65\\% \\\\\n",
      "\\hline\n",
      "се & 21358 & 3.52\\% \\\\\n",
      "\\hline\n",
      "е & 20169 & 3.33\\% \\\\\n",
      "\\hline\n"
     ]
    }
   ],
   "source": [
    "for word, count in syllables_count.most_common(10):\n",
    "    print(f'{word} & {count} & {count/size*100:.2f}\\\\% \\\\\\\\')\n",
    "    print('\\\\hline')"
   ]
  },
  {
   "cell_type": "code",
   "execution_count": 77,
   "metadata": {},
   "outputs": [],
   "source": [
    "syllables_length = [len(syllable) for syllable in flat_syllables]\n",
    "\n",
    "syllables_length_count = Counter(syllables_length)"
   ]
  },
  {
   "cell_type": "code",
   "execution_count": 78,
   "metadata": {},
   "outputs": [
    {
     "data": {
      "text/plain": [
       "Counter({2: 751809,\n",
       "         1: 95942,\n",
       "         3: 289748,\n",
       "         4: 67749,\n",
       "         6: 4160,\n",
       "         5: 12985,\n",
       "         7: 366,\n",
       "         9: 6,\n",
       "         8: 19,\n",
       "         10: 5,\n",
       "         11: 2,\n",
       "         13: 2})"
      ]
     },
     "execution_count": 78,
     "metadata": {},
     "output_type": "execute_result"
    }
   ],
   "source": [
    "syllables_length_count"
   ]
  },
  {
   "cell_type": "code",
   "execution_count": 83,
   "metadata": {},
   "outputs": [
    {
     "data": {
      "text/plain": [
       "2.316459940480523"
      ]
     },
     "execution_count": 83,
     "metadata": {},
     "output_type": "execute_result"
    }
   ],
   "source": [
    "sum(syllables_length) / len(syllables_length)"
   ]
  },
  {
   "cell_type": "code",
   "execution_count": 82,
   "metadata": {},
   "outputs": [
    {
     "data": {
      "image/png": "[encoded data removed]",
      "text/plain": [
       "<Figure size 640x480 with 1 Axes>"
      ]
     },
     "metadata": {},
     "output_type": "display_data"
    }
   ],
   "source": [
    "x = np.array(list(syllables_length_count.keys()))\n",
    "\n",
    "\n",
    "y = np.array(list(syllables_length_count.values()))\n",
    "y = y / len(flat_syllables) * 100\n",
    "\n",
    "\n",
    "fig, ax = plt.subplots()\n",
    "\n",
    "\n",
    "ax.bar(x, y)\n",
    "ax.set_xticks(np.arange(len(x)))\n",
    "ax.set_ylim([0, 65])\n",
    "ax.set_xlabel('Syllable length')\n",
    "ax.set_ylabel('Percentage of syllables')\n",
    "ax.set_title('Percentage of syllables with a given length')\n",
    "\n",
    "plt.show()"
   ]
  },
  {
   "cell_type": "code",
   "execution_count": 84,
   "metadata": {},
   "outputs": [
    {
     "data": {
      "text/plain": [
       "[(2, 751809), (3, 289748)]"
      ]
     },
     "execution_count": 84,
     "metadata": {},
     "output_type": "execute_result"
    }
   ],
   "source": [
    "syllables_length_count.most_common(2)"
   ]
  }
 ],
 "metadata": {
  "kernelspec": {
   "display_name": ".venv",
   "language": "python",
   "name": "python3"
  },
  "language_info": {
   "codemirror_mode": {
    "name": "ipython",
    "version": 3
   },
   "file_extension": ".py",
   "mimetype": "text/x-python",
   "name": "python",
   "nbconvert_exporter": "python",
   "pygments_lexer": "ipython3",
   "version": "3.10.12"
  },
  "orig_nbformat": 4
 },
 "nbformat": 4,
 "nbformat_minor": 2
}
