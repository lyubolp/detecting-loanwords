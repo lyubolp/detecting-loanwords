{
 "cells": [
  {
   "cell_type": "code",
   "execution_count": 1,
   "metadata": {},
   "outputs": [],
   "source": [
    "import pandas as pd\n",
    "import seaborn as sns"
   ]
  },
  {
   "cell_type": "code",
   "execution_count": 2,
   "metadata": {},
   "outputs": [],
   "source": [
    "import math\n",
    "syllables = pd.read_csv('/mnt/d/Projects/masters-thesis/data/name_broken.csv', sep='\\t', header=None, names=['name', 'syllables'])"
   ]
  },
  {
   "cell_type": "code",
   "execution_count": 3,
   "metadata": {},
   "outputs": [],
   "source": [
    "syllables['syllables'].replace(math.nan, '', inplace=True)"
   ]
  },
  {
   "cell_type": "code",
   "execution_count": 4,
   "metadata": {},
   "outputs": [
    {
     "data": {
      "text/html": [
       "<div>\n",
       "<style scoped>\n",
       "    .dataframe tbody tr th:only-of-type {\n",
       "        vertical-align: middle;\n",
       "    }\n",
       "\n",
       "    .dataframe tbody tr th {\n",
       "        vertical-align: top;\n",
       "    }\n",
       "\n",
       "    .dataframe thead th {\n",
       "        text-align: right;\n",
       "    }\n",
       "</style>\n",
       "<table border=\"1\" class=\"dataframe\">\n",
       "  <thead>\n",
       "    <tr style=\"text-align: right;\">\n",
       "      <th></th>\n",
       "      <th>name</th>\n",
       "      <th>syllables</th>\n",
       "    </tr>\n",
       "  </thead>\n",
       "  <tbody>\n",
       "    <tr>\n",
       "      <th>count</th>\n",
       "      <td>119678</td>\n",
       "      <td>119678</td>\n",
       "    </tr>\n",
       "    <tr>\n",
       "      <th>unique</th>\n",
       "      <td>118809</td>\n",
       "      <td>118683</td>\n",
       "    </tr>\n",
       "    <tr>\n",
       "      <th>top</th>\n",
       "      <td>хардкор</td>\n",
       "      <td>Илин-ден</td>\n",
       "    </tr>\n",
       "    <tr>\n",
       "      <th>freq</th>\n",
       "      <td>3</td>\n",
       "      <td>3</td>\n",
       "    </tr>\n",
       "  </tbody>\n",
       "</table>\n",
       "</div>"
      ],
      "text/plain": [
       "           name syllables\n",
       "count    119678    119678\n",
       "unique   118809    118683\n",
       "top     хардкор  Илин-ден\n",
       "freq          3         3"
      ]
     },
     "execution_count": 4,
     "metadata": {},
     "output_type": "execute_result"
    }
   ],
   "source": [
    "syllables.describe()"
   ]
  },
  {
   "cell_type": "code",
   "execution_count": 5,
   "metadata": {},
   "outputs": [],
   "source": [
    "syllables['syllables'] = syllables['syllables'].apply(lambda x: x.split('-'))"
   ]
  },
  {
   "cell_type": "code",
   "execution_count": 6,
   "metadata": {},
   "outputs": [],
   "source": [
    "vowels = ['а', 'ъ', 'о', 'у', 'е', 'и']\n",
    "consonants = ['б', 'в', 'г', 'д', 'ж', 'з', 'й', 'л', 'м', 'н', 'р', 'к', 'п', 'с', 'т', 'ф', 'х', 'ц', 'ч', 'ш']\n",
    "\n",
    "# аъоуеи\n",
    "# бвгджзйлмнркпстфхцчш\n",
    "\n",
    "def get_vowels_count(syllable):\n",
    "    return len([x for x in syllable if x in vowels])"
   ]
  },
  {
   "cell_type": "code",
   "execution_count": 8,
   "metadata": {},
   "outputs": [
    {
     "data": {
      "text/html": [
       "<div>\n",
       "<style scoped>\n",
       "    .dataframe tbody tr th:only-of-type {\n",
       "        vertical-align: middle;\n",
       "    }\n",
       "\n",
       "    .dataframe tbody tr th {\n",
       "        vertical-align: top;\n",
       "    }\n",
       "\n",
       "    .dataframe thead th {\n",
       "        text-align: right;\n",
       "    }\n",
       "</style>\n",
       "<table border=\"1\" class=\"dataframe\">\n",
       "  <thead>\n",
       "    <tr style=\"text-align: right;\">\n",
       "      <th></th>\n",
       "      <th>name</th>\n",
       "      <th>syllables</th>\n",
       "    </tr>\n",
       "  </thead>\n",
       "  <tbody>\n",
       "    <tr>\n",
       "      <th>77162</th>\n",
       "      <td>вестник</td>\n",
       "      <td>[вес, т, ник]</td>\n",
       "    </tr>\n",
       "  </tbody>\n",
       "</table>\n",
       "</div>"
      ],
      "text/plain": [
       "          name      syllables\n",
       "77162  вестник  [вес, т, ник]"
      ]
     },
     "execution_count": 8,
     "metadata": {},
     "output_type": "execute_result"
    }
   ],
   "source": [
    "syllables[syllables['name'] == 'вестник']"
   ]
  },
  {
   "cell_type": "code",
   "execution_count": 9,
   "metadata": {},
   "outputs": [],
   "source": [
    "sample = syllables.sample(10)"
   ]
  },
  {
   "cell_type": "code",
   "execution_count": 10,
   "metadata": {},
   "outputs": [],
   "source": [
    "def get_vowels_count(syllable):\n",
    "    return len([x for x in syllable if x in vowels])\n",
    "\n",
    "def get_first_vowel_location(word: str) -> int:\n",
    "    for index, letter in enumerate(word):\n",
    "        if letter in vowels:\n",
    "            return index\n",
    "    return -1\n",
    "\n",
    "def split_word(word: str) -> list[str]:\n",
    "    volews_count = get_vowels_count(word)\n",
    "\n",
    "    result = []\n",
    "\n",
    "    while volews_count > 1:\n",
    "        first_vowel_location = get_first_vowel_location(word)\n",
    "        second_vowel_location = get_first_vowel_location(word[first_vowel_location + 1:]) + first_vowel_location + 1\n",
    "\n",
    "        amount_of_consonants = second_vowel_location - first_vowel_location - 1\n",
    "\n",
    "        if amount_of_consonants == 1:\n",
    "            # 65.1\n",
    "            cut_index = first_vowel_location + 1\n",
    "        elif amount_of_consonants >= 2:\n",
    "            if amount_of_consonants == 2 and word[first_vowel_location + 1] == word[first_vowel_location + 2]:\n",
    "                # 65.2.1\n",
    "                cut_index = first_vowel_location + 2\n",
    "            else:\n",
    "                # 65.2\n",
    "                cut_index = first_vowel_location + (amount_of_consonants // 2) + 1\n",
    "        elif amount_of_consonants == 0:\n",
    "            # 65.3\n",
    "            cut_index = first_vowel_location + 1\n",
    "        \n",
    "        result.append(word[:cut_index])\n",
    "        word = word[cut_index:]\n",
    "        volews_count = get_vowels_count(word)\n",
    "    \n",
    "    result.append(word)\n",
    "\n",
    "    return result"
   ]
  },
  {
   "cell_type": "code",
   "execution_count": 11,
   "metadata": {},
   "outputs": [
    {
     "name": "stdout",
     "output_type": "stream",
     "text": [
      "name='отчеквам', syllables=['от', 'чек', 'вам'], split_word(name)=['от', 'чек', 'вам']\n",
      "name='брадфордски', syllables=['брад', 'фор', 'д', 'с', 'ки'], split_word(name)=['брад', 'форд', 'ски']\n",
      "name='дренаж', syllables=['дре', 'наж'], split_word(name)=['дре', 'наж']\n",
      "name='Драганово', syllables=['Дра', 'га', 'но', 'во'], split_word(name)=['Дра', 'га', 'но', 'во']\n",
      "name='пиперка', syllables=['пи', 'пер', 'ка'], split_word(name)=['пи', 'пер', 'ка']\n",
      "name='ремастеринг', syllables=['ре', 'мас', 'те', 'ринг'], split_word(name)=['ре', 'мас', 'те', 'ринг']\n",
      "name='пешеходец', syllables=['пе', 'ше', 'хо', 'дец'], split_word(name)=['пе', 'ше', 'хо', 'дец']\n",
      "name='топатлетче', syllables=['то', 'пат', 'лет', 'че'], split_word(name)=['то', 'пат', 'лет', 'че']\n",
      "name='вкорененост', syllables=['вко', 'ре', 'не', 'ност'], split_word(name)=['вко', 'ре', 'не', 'ност']\n",
      "name='разсичане', syllables=['раз', 'си', 'ча', 'не'], split_word(name)=['раз', 'си', 'ча', 'не']\n"
     ]
    }
   ],
   "source": [
    "for name, syllables in sample.iloc:\n",
    "    print(f'{name=}, {syllables=}, {split_word(name)=}')"
   ]
  },
  {
   "cell_type": "code",
   "execution_count": 1,
   "metadata": {},
   "outputs": [
    {
     "data": {
      "text/plain": [
       "['айрян']"
      ]
     },
     "execution_count": 1,
     "metadata": {},
     "output_type": "execute_result"
    }
   ],
   "source": [
    "from src.syllable_splitter import split_word\n",
    "split_word('айрян')"
   ]
  }
 ],
 "metadata": {
  "kernelspec": {
   "display_name": ".venv",
   "language": "python",
   "name": "python3"
  },
  "language_info": {
   "codemirror_mode": {
    "name": "ipython",
    "version": 3
   },
   "file_extension": ".py",
   "mimetype": "text/x-python",
   "name": "python",
   "nbconvert_exporter": "python",
   "pygments_lexer": "ipython3",
   "version": "3.10.12"
  },
  "orig_nbformat": 4
 },
 "nbformat": 4,
 "nbformat_minor": 2
}
