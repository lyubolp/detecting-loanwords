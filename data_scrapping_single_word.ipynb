{
 "cells": [
  {
   "cell_type": "code",
   "execution_count": 1,
   "metadata": {},
   "outputs": [],
   "source": [
    "import string\n",
    "\n",
    "from nltk.tokenize import word_tokenize\n",
    "import pandas as pd\n",
    "\n",
    "from src.dataset_utils import load_files"
   ]
  },
  {
   "cell_type": "code",
   "execution_count": 2,
   "metadata": {},
   "outputs": [],
   "source": [
    "files = load_files('/mnt/d/Projects/masters-thesis/data/transcriptions')\n",
    "\n",
    "target_files = files[1:6]"
   ]
  },
  {
   "cell_type": "code",
   "execution_count": 3,
   "metadata": {},
   "outputs": [
    {
     "data": {
      "text/plain": [
       "'/mnt/d/Projects/masters-thesis/data/transcriptions/00/1'"
      ]
     },
     "execution_count": 3,
     "metadata": {},
     "output_type": "execute_result"
    }
   ],
   "source": [
    "target_files[0]"
   ]
  },
  {
   "cell_type": "code",
   "execution_count": 4,
   "metadata": {},
   "outputs": [],
   "source": [
    "with open('/mnt/d/Projects/masters-thesis/data/single_words.txt', 'w+') as f:\n",
    "    for file_path in target_files:\n",
    "        sample = pd.read_csv(file_path)\n",
    "        sample['split'] = sample['sentence'].apply(word_tokenize)\n",
    "        sample['split_transcription'] = sample['transcription'].apply(word_tokenize)\n",
    "\n",
    "        words = sample['split'].sum()\n",
    "        transcriptions = sample['split_transcription'].sum()\n",
    "        \n",
    "        words = [word for word in words if word not in string.punctuation + '\"' + '“' + '—' + '”']\n",
    "        transcriptions = [word for word in transcriptions if word not in string.punctuation + '\"' + '“' + '—' + '”']\n",
    "\n",
    "        \n",
    "        for word, transcription in zip(words, transcriptions):\n",
    "            f.write(f'{word}, {transcription}\\n')"
   ]
  },
  {
   "cell_type": "code",
   "execution_count": 5,
   "metadata": {},
   "outputs": [
    {
     "name": "stdout",
     "output_type": "stream",
     "text": [
      "606102 /mnt/d/Projects/masters-thesis/data/single_words.txt\n"
     ]
    }
   ],
   "source": [
    "!wc -l /mnt/d/Projects/masters-thesis/data/single_words.txt"
   ]
  }
 ],
 "metadata": {
  "kernelspec": {
   "display_name": ".venv",
   "language": "python",
   "name": "python3"
  },
  "language_info": {
   "codemirror_mode": {
    "name": "ipython",
    "version": 3
   },
   "file_extension": ".py",
   "mimetype": "text/x-python",
   "name": "python",
   "nbconvert_exporter": "python",
   "pygments_lexer": "ipython3",
   "version": "3.10.12"
  },
  "orig_nbformat": 4
 },
 "nbformat": 4,
 "nbformat_minor": 2
}
