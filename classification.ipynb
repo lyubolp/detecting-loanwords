{
 "cells": [
  {
   "cell_type": "code",
   "execution_count": 1,
   "metadata": {},
   "outputs": [],
   "source": [
    "import torch\n",
    "\n",
    "from torch import nn\n",
    "from torch.utils.data import Dataset, DataLoader\n",
    "from src.word_to_embedding import WordToEmbedding\n",
    "\n",
    "device = torch.device('cuda' if torch.cuda.is_available() else 'cpu')"
   ]
  },
  {
   "cell_type": "code",
   "execution_count": 2,
   "metadata": {},
   "outputs": [],
   "source": [
    "w2e = WordToEmbedding()"
   ]
  },
  {
   "cell_type": "code",
   "execution_count": null,
   "metadata": {},
   "outputs": [],
   "source": [
    "class LoanwordsDataset(Dataset):\n",
    "    def __init__(self):\n",
    "        pass\n",
    "\n",
    "    def __len__(self):\n",
    "        pass\n",
    "\n",
    "    def __getitem__(self, index) -> tuple[str, str]:\n",
    "        return super().__getitem__(index)\n",
    "    \n",
    "\n",
    "    pass"
   ]
  },
  {
   "cell_type": "code",
   "execution_count": 3,
   "metadata": {},
   "outputs": [],
   "source": [
    "class LoanwordClassifier(nn.Module):\n",
    "    def __init__(self, embeddeing_engine: WordToEmbedding, dropout: float = 0.5, amount_of_categories: int = 15):\n",
    "        self.__embeddeing_engine = embeddeing_engine\n",
    "        self.__dropout = nn.Dropout(dropout)\n",
    "\n",
    "        self.__linear = nn.Linear(768, amount_of_categories).to(device)\n",
    "        self.__relu = nn.ReLU().to(device)\n",
    "\n",
    "    def forward(self, word: str):\n",
    "        encoded_input = self.__embeddeing_engine.get_embedding(word).to(device)\n",
    "\n",
    "        dropout_output = self.__dropout(encoded_input).to(device)\n",
    "        linear_output = self.__linear(dropout_output).to(device)\n",
    "        final_output = self.__relu(linear_output).to(device)\n",
    "        \n",
    "        return final_output"
   ]
  }
 ],
 "metadata": {
  "kernelspec": {
   "display_name": ".venv",
   "language": "python",
   "name": "python3"
  },
  "language_info": {
   "codemirror_mode": {
    "name": "ipython",
    "version": 3
   },
   "file_extension": ".py",
   "mimetype": "text/x-python",
   "name": "python",
   "nbconvert_exporter": "python",
   "pygments_lexer": "ipython3",
   "version": "3.10.12"
  }
 },
 "nbformat": 4,
 "nbformat_minor": 2
}
