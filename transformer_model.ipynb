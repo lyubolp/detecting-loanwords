{
 "cells": [
  {
   "cell_type": "code",
   "execution_count": 1,
   "metadata": {},
   "outputs": [],
   "source": [
    "# Standard library imports\n",
    "import json\n",
    "import os\n",
    "\n",
    "from copy import deepcopy\n",
    "from typing import Iterable, List\n",
    "\n",
    "# Third party imports\n",
    "import pandas as pd\n",
    "import torch\n",
    "import tqdm\n",
    "\n",
    "from nltk.tokenize import word_tokenize\n",
    "\n",
    "from torch.utils.data import Dataset, DataLoader\n",
    "from torch.utils.data.sampler import SubsetRandomSampler\n",
    "\n",
    "from torchtext.data.utils import get_tokenizer\n",
    "from torchtext.vocab import build_vocab_from_iterator\n",
    "from torchtext.datasets import multi30k, Multi30k\n",
    "\n",
    "# Local application imports\n",
    "import src.constants as const\n",
    "from src.dataset_utils import yield_tokens, sentence_to_tensor, load_files, build_vocab_transformation, tokenize_source, tokenize_target\n",
    "from src.transcription_dataset import TranscriptionDataset\n",
    "from src.syllable_splitter import split_word"
   ]
  },
  {
   "cell_type": "code",
   "execution_count": 2,
   "metadata": {},
   "outputs": [],
   "source": [
    "import warnings\n",
    "warnings.filterwarnings('ignore')"
   ]
  },
  {
   "cell_type": "markdown",
   "metadata": {},
   "source": [
    "# Dataset stuff"
   ]
  },
  {
   "cell_type": "code",
   "execution_count": 3,
   "metadata": {},
   "outputs": [
    {
     "data": {
      "text/plain": [
       "'Брой файлове: 47825, брой редове: 80615534'"
      ]
     },
     "execution_count": 3,
     "metadata": {},
     "output_type": "execute_result"
    }
   ],
   "source": [
    "# Find all the files\n",
    "files = load_files('/mnt/d/Projects/masters-thesis/data/transcriptions')\n",
    "\n",
    "filepaths_to_size = pd.read_csv('/mnt/d/Projects/masters-thesis/data/filepath_to_size.csv')\n",
    "lines_count = filepaths_to_size['size'].sum()\n",
    "\n",
    "f'Брой файлове: {len(files)}, брой редове: {lines_count}'"
   ]
  },
  {
   "cell_type": "code",
   "execution_count": 4,
   "metadata": {},
   "outputs": [],
   "source": [
    "# Train & test split\n",
    "sentences_to_use = 50000\n",
    "train_split = int(const.TRAIN_TEST_SPLIT * sentences_to_use)\n",
    "validation_split = int((const.TRAIN_TEST_SPLIT + const.TRAIN_VALIDATION_SPLIT) * sentences_to_use)"
   ]
  },
  {
   "cell_type": "code",
   "execution_count": 5,
   "metadata": {},
   "outputs": [],
   "source": [
    "train_dataset = TranscriptionDataset(files, tokenization_src=tokenize_source, tokenization_tgt=tokenize_target,\n",
    "                                     start_index=0, end_index=train_split)\n",
    "validation_dataset = TranscriptionDataset(files, tokenization_src=tokenize_source, tokenization_tgt=tokenize_target,\n",
    "                                          start_index=train_split, end_index=validation_split)\n",
    "test_dataset = TranscriptionDataset(files, tokenization_src=tokenize_source, tokenization_tgt=tokenize_target,\n",
    "                                    start_index=validation_split, end_index=sentences_to_use)"
   ]
  },
  {
   "cell_type": "code",
   "execution_count": 6,
   "metadata": {},
   "outputs": [],
   "source": [
    "for ln in [const.SRC_LANGUAGE, const.TGT_LANGUAGE]:\n",
    "    # Create torchtext's Vocab object\n",
    "    const.vocab_transform[ln] = build_vocab_transformation(train_dataset, ln)"
   ]
  },
  {
   "cell_type": "markdown",
   "metadata": {},
   "source": [
    "Takes 229 minutes"
   ]
  },
  {
   "cell_type": "code",
   "execution_count": 7,
   "metadata": {},
   "outputs": [],
   "source": [
    "from torch.nn.utils.rnn import pad_sequence\n",
    "\n",
    "# helper function to club together sequential operations\n",
    "def sequential_transforms(*transforms):\n",
    "    def func(txt_input):\n",
    "        for transform in transforms:\n",
    "            txt_input = transform(txt_input)\n",
    "        return txt_input\n",
    "    return func\n",
    "\n",
    "# function to add BOS/EOS and create tensor for input sequence indices\n",
    "def tensor_transform(token_ids: List[int]):\n",
    "    return torch.cat((torch.tensor([const.BOS_IDX]),\n",
    "                      torch.tensor(token_ids),\n",
    "                      torch.tensor([const.EOS_IDX])))\n",
    "\n",
    "\n",
    "text_transform_src = sequential_transforms(const.vocab_transform[const.SRC_LANGUAGE], #Numericalization\n",
    "                                                tensor_transform) # Add BOS/EOS and create tensor\n",
    "\n",
    "vowels_transcription = ['a', 'ʌ', 'ɤ̞',  'ɐ', 'ɔ', 'o', 'u', 'ɛ', 'i']\n",
    "text_transform_tgt = sequential_transforms(const.vocab_transform[const.TGT_LANGUAGE], #Numericalization\n",
    "                                                tensor_transform) # Add BOS/EOS and create tensor\n",
    "\n",
    "# function to collate data samples into batch tensors\n",
    "def collate_fn(batch):\n",
    "    src_batch, tgt_batch = [], []\n",
    "    for src_sample, tgt_sample in batch:\n",
    "        src_batch.append(text_transform_src(src_sample))\n",
    "        tgt_batch.append(text_transform_tgt(tgt_sample))\n",
    "\n",
    "    src_batch = pad_sequence(src_batch, padding_value=const.PAD_IDX)\n",
    "    tgt_batch = pad_sequence(tgt_batch, padding_value=const.PAD_IDX)\n",
    "    return src_batch, tgt_batch"
   ]
  },
  {
   "cell_type": "code",
   "execution_count": 8,
   "metadata": {},
   "outputs": [],
   "source": [
    "train_dataloader = DataLoader(deepcopy(train_dataset), batch_size=128, collate_fn=collate_fn)\n",
    "validation_dataloader = DataLoader(deepcopy(validation_dataset), batch_size=128, collate_fn=collate_fn)\n",
    "test_dataloader = DataLoader(deepcopy(test_dataset), batch_size=128, collate_fn=collate_fn)"
   ]
  },
  {
   "cell_type": "markdown",
   "metadata": {},
   "source": [
    "# Model stuff"
   ]
  },
  {
   "cell_type": "code",
   "execution_count": 9,
   "metadata": {},
   "outputs": [],
   "source": [
    "from torch import Tensor\n",
    "import torch\n",
    "import torch.nn as nn\n",
    "from torch.nn import Transformer\n",
    "import math\n",
    "\n",
    "# helper Module that adds positional encoding to the token embedding to introduce a notion of word order.\n",
    "class PositionalEncoding(nn.Module):\n",
    "    def __init__(self,\n",
    "                 emb_size: int,\n",
    "                 dropout: float,\n",
    "                 maxlen: int = 5000):\n",
    "        super(PositionalEncoding, self).__init__()\n",
    "        den = torch.exp(- torch.arange(0, emb_size, 2)* math.log(10000) / emb_size)\n",
    "        pos = torch.arange(0, maxlen).reshape(maxlen, 1)\n",
    "        pos_embedding = torch.zeros((maxlen, emb_size))\n",
    "        pos_embedding[:, 0::2] = torch.sin(pos * den)\n",
    "        pos_embedding[:, 1::2] = torch.cos(pos * den)\n",
    "        pos_embedding = pos_embedding.unsqueeze(-2)\n",
    "\n",
    "        self.dropout = nn.Dropout(dropout)\n",
    "        self.register_buffer('pos_embedding', pos_embedding)\n",
    "\n",
    "    def forward(self, token_embedding: Tensor):\n",
    "        return self.dropout(token_embedding + self.pos_embedding[:token_embedding.size(0), :])\n",
    "\n",
    "# helper Module to convert tensor of input indices into corresponding tensor of token embeddings\n",
    "class TokenEmbedding(nn.Module):\n",
    "    def __init__(self, vocab_size: int, emb_size):\n",
    "        super(TokenEmbedding, self).__init__()\n",
    "        self.embedding = nn.Embedding(vocab_size, emb_size)\n",
    "        self.emb_size = emb_size\n",
    "\n",
    "    def forward(self, tokens: Tensor):\n",
    "        return self.embedding(tokens.long()) * math.sqrt(self.emb_size)\n",
    "\n",
    "# Seq2Seq Network\n",
    "class Seq2SeqTransformer(nn.Module):\n",
    "    def __init__(self,\n",
    "                 num_encoder_layers: int,\n",
    "                 num_decoder_layers: int,\n",
    "                 emb_size: int,\n",
    "                 nhead: int,\n",
    "                 src_vocab_size: int,\n",
    "                 tgt_vocab_size: int,\n",
    "                 dim_feedforward: int = 512,\n",
    "                 dropout: float = 0.1):\n",
    "        super(Seq2SeqTransformer, self).__init__()\n",
    "        self.transformer = Transformer(d_model=emb_size,\n",
    "                                       nhead=nhead,\n",
    "                                       num_encoder_layers=num_encoder_layers,\n",
    "                                       num_decoder_layers=num_decoder_layers,\n",
    "                                       dim_feedforward=dim_feedforward,\n",
    "                                       dropout=dropout)\n",
    "        self.generator = nn.Linear(emb_size, tgt_vocab_size)\n",
    "        self.src_tok_emb = TokenEmbedding(src_vocab_size, emb_size)\n",
    "        self.tgt_tok_emb = TokenEmbedding(tgt_vocab_size, emb_size)\n",
    "        self.positional_encoding = PositionalEncoding(\n",
    "            emb_size, dropout=dropout)\n",
    "\n",
    "    def forward(self,\n",
    "                src: Tensor,\n",
    "                trg: Tensor,\n",
    "                src_mask: Tensor,\n",
    "                tgt_mask: Tensor,\n",
    "                src_padding_mask: Tensor,\n",
    "                tgt_padding_mask: Tensor,\n",
    "                memory_key_padding_mask: Tensor):\n",
    "        src_emb = self.positional_encoding(self.src_tok_emb(src))\n",
    "        tgt_emb = self.positional_encoding(self.tgt_tok_emb(trg))\n",
    "        outs = self.transformer(src_emb, tgt_emb, src_mask, tgt_mask, None,\n",
    "                                src_padding_mask, tgt_padding_mask, memory_key_padding_mask)\n",
    "        return self.generator(outs)\n",
    "\n",
    "    def encode(self, src: Tensor, src_mask: Tensor):\n",
    "        return self.transformer.encoder(self.positional_encoding(\n",
    "                            self.src_tok_emb(src)), src_mask)\n",
    "\n",
    "    def decode(self, tgt: Tensor, memory: Tensor, tgt_mask: Tensor):\n",
    "        return self.transformer.decoder(self.positional_encoding(\n",
    "                          self.tgt_tok_emb(tgt)), memory,\n",
    "                          tgt_mask)"
   ]
  },
  {
   "cell_type": "code",
   "execution_count": 10,
   "metadata": {},
   "outputs": [],
   "source": [
    "def generate_square_subsequent_mask(sz):\n",
    "    mask = (torch.triu(torch.ones((sz, sz), device=const.device)) == 1).transpose(0, 1)\n",
    "    mask = mask.float().masked_fill(mask == 0, float('-inf')).masked_fill(mask == 1, float(0.0))\n",
    "    return mask\n",
    "\n",
    "\n",
    "def create_mask(src, tgt):\n",
    "    src_seq_len = src.shape[0]\n",
    "    tgt_seq_len = tgt.shape[0]\n",
    "\n",
    "    tgt_mask = generate_square_subsequent_mask(tgt_seq_len)\n",
    "    src_mask = torch.zeros((src_seq_len, src_seq_len),device=const.device).type(torch.bool)\n",
    "\n",
    "    src_padding_mask = (src == const.PAD_IDX).transpose(0, 1)\n",
    "    tgt_padding_mask = (tgt == const.PAD_IDX).transpose(0, 1)\n",
    "    return src_mask, tgt_mask, src_padding_mask, tgt_padding_mask"
   ]
  },
  {
   "cell_type": "code",
   "execution_count": 37,
   "metadata": {},
   "outputs": [
    {
     "name": "stdout",
     "output_type": "stream",
     "text": [
      "5201 3398\n"
     ]
    }
   ],
   "source": [
    "torch.manual_seed(0)\n",
    "\n",
    "SRC_VOCAB_SIZE = len(const.vocab_transform[const.SRC_LANGUAGE])\n",
    "TGT_VOCAB_SIZE = len(const.vocab_transform[const.TGT_LANGUAGE])\n",
    "EMB_SIZE = 512\n",
    "NHEAD = 8\n",
    "FFN_HID_DIM = 512\n",
    "NUM_ENCODER_LAYERS = 3\n",
    "NUM_DECODER_LAYERS = 3\n",
    "\n",
    "transformer = Seq2SeqTransformer(NUM_ENCODER_LAYERS, NUM_DECODER_LAYERS, EMB_SIZE,\n",
    "                                 NHEAD, SRC_VOCAB_SIZE, TGT_VOCAB_SIZE, FFN_HID_DIM)\n",
    "\n",
    "for p in transformer.parameters():\n",
    "    if p.dim() > 1:\n",
    "        nn.init.xavier_uniform_(p)\n",
    "\n",
    "transformer = transformer.to(const.device)\n",
    "\n",
    "loss_fn = torch.nn.CrossEntropyLoss(ignore_index=const.PAD_IDX)\n",
    "\n",
    "optimizer = torch.optim.Adam(transformer.parameters(), lr=0.0001, betas=(0.9, 0.98), eps=1e-9)\n",
    "\n",
    "print(SRC_VOCAB_SIZE, TGT_VOCAB_SIZE)"
   ]
  },
  {
   "cell_type": "code",
   "execution_count": 12,
   "metadata": {},
   "outputs": [],
   "source": [
    "from torch.utils.data import DataLoader\n",
    "\n",
    "def train_epoch(model, optimizer, train_dataloader):\n",
    "    model.train()\n",
    "    losses = 0\n",
    "\n",
    "    for src, tgt in train_dataloader:\n",
    "        src = src.to(const.device)\n",
    "        tgt = tgt.to(const.device)\n",
    "\n",
    "        tgt_input = tgt[:-1, :]\n",
    "\n",
    "        src_mask, tgt_mask, src_padding_mask, tgt_padding_mask = create_mask(src, tgt_input)\n",
    "\n",
    "        logits = model(src, tgt_input, src_mask, tgt_mask,src_padding_mask, tgt_padding_mask, src_padding_mask)\n",
    "\n",
    "        optimizer.zero_grad()\n",
    "\n",
    "        tgt_out = tgt[1:, :]\n",
    "        loss = loss_fn(logits.reshape(-1, logits.shape[-1]), tgt_out.reshape(-1))\n",
    "        loss.backward()\n",
    "\n",
    "        optimizer.step()\n",
    "        losses += loss.item()\n",
    "\n",
    "    return losses / len(list(train_dataloader))\n",
    "\n",
    "\n",
    "def evaluate(model):\n",
    "    model.eval()\n",
    "    losses = 0\n",
    "\n",
    "    for src, tgt in validation_dataloader:\n",
    "        src = src.to(const.device)\n",
    "        tgt = tgt.to(const.device)\n",
    "\n",
    "        tgt_input = tgt[:-1, :]\n",
    "\n",
    "        src_mask, tgt_mask, src_padding_mask, tgt_padding_mask = create_mask(src, tgt_input)\n",
    "\n",
    "        logits = model(src, tgt_input, src_mask, tgt_mask,src_padding_mask, tgt_padding_mask, src_padding_mask)\n",
    "\n",
    "        tgt_out = tgt[1:, :]\n",
    "        loss = loss_fn(logits.reshape(-1, logits.shape[-1]), tgt_out.reshape(-1))\n",
    "        losses += loss.item()\n",
    "\n",
    "    return losses / len(list(validation_dataloader))"
   ]
  },
  {
   "cell_type": "code",
   "execution_count": 26,
   "metadata": {},
   "outputs": [
    {
     "name": "stdout",
     "output_type": "stream",
     "text": [
      "Epoch: 1, Train loss: 4.714, Val loss: 2.977, Epoch time = 531.922s\n",
      "Epoch: 2, Train loss: 2.111, Val loss: 1.263, Epoch time = 522.123s\n",
      "Epoch: 3, Train loss: 0.973, Val loss: 0.654, Epoch time = 519.233s\n",
      "Epoch: 4, Train loss: 0.531, Val loss: 0.399, Epoch time = 519.653s\n",
      "Epoch: 5, Train loss: 0.343, Val loss: 0.290, Epoch time = 513.225s\n",
      "Epoch: 6, Train loss: 0.240, Val loss: 0.207, Epoch time = 513.179s\n",
      "Epoch: 7, Train loss: 0.184, Val loss: 0.161, Epoch time = 511.824s\n",
      "Epoch: 8, Train loss: 0.137, Val loss: 0.159, Epoch time = 511.727s\n",
      "Epoch: 9, Train loss: 0.110, Val loss: 0.103, Epoch time = 511.984s\n",
      "Epoch: 10, Train loss: 0.088, Val loss: 0.091, Epoch time = 511.831s\n",
      "Epoch: 11, Train loss: 0.074, Val loss: 0.115, Epoch time = 511.824s\n",
      "Epoch: 12, Train loss: 0.060, Val loss: 0.115, Epoch time = 511.754s\n",
      "Epoch: 13, Train loss: 0.050, Val loss: 0.071, Epoch time = 511.510s\n",
      "Epoch: 14, Train loss: 0.041, Val loss: 0.060, Epoch time = 511.865s\n",
      "Epoch: 15, Train loss: 0.034, Val loss: 0.058, Epoch time = 511.707s\n",
      "Epoch: 16, Train loss: 0.029, Val loss: 0.064, Epoch time = 511.780s\n",
      "Epoch: 17, Train loss: 0.025, Val loss: 0.057, Epoch time = 511.949s\n",
      "Epoch: 18, Train loss: 0.022, Val loss: 0.058, Epoch time = 511.895s\n",
      "Epoch: 19, Train loss: 0.020, Val loss: 0.053, Epoch time = 511.768s\n",
      "Epoch: 20, Train loss: 0.017, Val loss: 0.062, Epoch time = 511.903s\n",
      "Epoch: 21, Train loss: 0.015, Val loss: 0.047, Epoch time = 511.982s\n",
      "Epoch: 22, Train loss: 0.014, Val loss: 0.041, Epoch time = 511.464s\n",
      "Epoch: 23, Train loss: 0.012, Val loss: 0.042, Epoch time = 511.714s\n",
      "Epoch: 24, Train loss: 0.011, Val loss: 0.039, Epoch time = 511.606s\n",
      "Epoch: 25, Train loss: 0.010, Val loss: 0.039, Epoch time = 511.450s\n"
     ]
    }
   ],
   "source": [
    "from timeit import default_timer as timer\n",
    "NUM_EPOCHS = 25\n",
    "\n",
    "for epoch in range(1, NUM_EPOCHS+1):\n",
    "    start_time = timer()\n",
    "    train_loss = train_epoch(transformer, optimizer, train_dataloader)\n",
    "    end_time = timer()\n",
    "    val_loss = evaluate(transformer)\n",
    "    print(f\"Epoch: {epoch}, Train loss: {train_loss:.3f}, Val loss: {val_loss:.3f}, \"f\"Epoch time = {(end_time - start_time):.3f}s\")"
   ]
  },
  {
   "cell_type": "code",
   "execution_count": 13,
   "metadata": {},
   "outputs": [
    {
     "ename": "NameError",
     "evalue": "name 'NUM_EPOCHS' is not defined",
     "output_type": "error",
     "traceback": [
      "\u001b[0;31m---------------------------------------------------------------------------\u001b[0m",
      "\u001b[0;31mNameError\u001b[0m                                 Traceback (most recent call last)",
      "Cell \u001b[0;32mIn[13], line 4\u001b[0m\n\u001b[1;32m      1\u001b[0m \u001b[39mfrom\u001b[39;00m \u001b[39mdatetime\u001b[39;00m \u001b[39mimport\u001b[39;00m datetime\n\u001b[1;32m      2\u001b[0m today_date \u001b[39m=\u001b[39m datetime\u001b[39m.\u001b[39mtoday()\u001b[39m.\u001b[39mstrftime(\u001b[39m'\u001b[39m\u001b[39m%\u001b[39m\u001b[39mY-\u001b[39m\u001b[39m%\u001b[39m\u001b[39mm-\u001b[39m\u001b[39m%d\u001b[39;00m\u001b[39m'\u001b[39m)\n\u001b[0;32m----> 4\u001b[0m torch\u001b[39m.\u001b[39msave(transformer\u001b[39m.\u001b[39mstate_dict(), \u001b[39mf\u001b[39m\u001b[39m'\u001b[39m\u001b[39mmodels/transformer-\u001b[39m\u001b[39m{\u001b[39;00mtoday_date\u001b[39m}\u001b[39;00m\u001b[39m-\u001b[39m\u001b[39m{\u001b[39;00msentences_to_use\u001b[39m}\u001b[39;00m\u001b[39m-\u001b[39m\u001b[39m{\u001b[39;00mNUM_EPOCHS\u001b[39m}\u001b[39;00m\u001b[39m.pth\u001b[39m\u001b[39m'\u001b[39m)\n",
      "\u001b[0;31mNameError\u001b[0m: name 'NUM_EPOCHS' is not defined"
     ]
    }
   ],
   "source": [
    "from datetime import datetime\n",
    "today_date = datetime.today().strftime('%Y-%m-%d')\n",
    "\n",
    "torch.save(transformer.state_dict(), f'models/transformer-{today_date}-{sentences_to_use}-{NUM_EPOCHS}.pth')"
   ]
  },
  {
   "cell_type": "code",
   "execution_count": 14,
   "metadata": {},
   "outputs": [
    {
     "data": {
      "text/plain": [
       "<All keys matched successfully>"
      ]
     },
     "execution_count": 14,
     "metadata": {},
     "output_type": "execute_result"
    }
   ],
   "source": [
    "transformer.load_state_dict(torch.load('models/transformer-2023-10-08-50000-25.pth'))"
   ]
  },
  {
   "cell_type": "code",
   "execution_count": 15,
   "metadata": {},
   "outputs": [],
   "source": [
    "text_transform_src = sequential_transforms(tokenize_source,\n",
    "    const.vocab_transform[const.SRC_LANGUAGE], #Numericalization\n",
    "                                                tensor_transform) # Add BOS/EOS and create tensor\n",
    "\n",
    "vowels_transcription = ['a', 'ʌ', 'ɤ̞',  'ɐ', 'ɔ', 'o', 'u', 'ɛ', 'i']\n",
    "text_transform_tgt = sequential_transforms(const.vocab_transform[const.TGT_LANGUAGE], #Numericalization\n",
    "                                                tensor_transform) # Add BOS/EOS and create tensor"
   ]
  },
  {
   "cell_type": "code",
   "execution_count": 16,
   "metadata": {},
   "outputs": [],
   "source": [
    "# function to generate output sequence using greedy algorithm\n",
    "def greedy_decode(model, src, src_mask, max_len, start_symbol):\n",
    "    src = src.to(const.device)\n",
    "    src_mask = src_mask.to(const.device)\n",
    "\n",
    "    memory = model.encode(src, src_mask)\n",
    "    ys = torch.ones(1, 1).fill_(start_symbol).type(torch.long).to(const.device)\n",
    "    for i in range(max_len-1):\n",
    "        memory = memory.to(const.device)\n",
    "        tgt_mask = (generate_square_subsequent_mask(ys.size(0))\n",
    "                    .type(torch.bool)).to(const.device)\n",
    "        out = model.decode(ys, memory, tgt_mask)\n",
    "        out = out.transpose(0, 1)\n",
    "        prob = model.generator(out[:, -1])\n",
    "        _, next_word = torch.max(prob, dim=1)\n",
    "        next_word = next_word.item()\n",
    "\n",
    "        ys = torch.cat([ys,\n",
    "                        torch.ones(1, 1).type_as(src.data).fill_(next_word)], dim=0)\n",
    "        if next_word == const.EOS_IDX:\n",
    "            break\n",
    "    return ys\n",
    "\n",
    "\n",
    "# actual function to translate input sentence into target language\n",
    "def translate(model: torch.nn.Module, src_sentence: str):\n",
    "    src_sentence = src_sentence.lower()\n",
    "    model.eval()\n",
    "    src = text_transform_src(src_sentence).view(-1, 1)\n",
    "\n",
    "    num_tokens = src.shape[0]\n",
    "    src_mask = (torch.zeros(num_tokens, num_tokens)).type(torch.bool)\n",
    "    tgt_tokens = greedy_decode(\n",
    "        model,  src, src_mask, max_len=num_tokens + 5, start_symbol=const.BOS_IDX).flatten()\n",
    "    # print(list(tgt_tokens.cpu().numpy()))\n",
    "    return \" \".join(const.vocab_transform[const.TGT_LANGUAGE].lookup_tokens(list(tgt_tokens.cpu().numpy()))).replace(\"<bos>\", \"\").replace(\"<eos>\", \"\")"
   ]
  },
  {
   "cell_type": "code",
   "execution_count": 31,
   "metadata": {},
   "outputs": [],
   "source": [
    "def get_embedding(model: Seq2SeqTransformer, src_sentence: str):\n",
    "    src_sentence = src_sentence.lower()\n",
    "    model.eval()\n",
    "    src = text_transform_src(src_sentence).view(-1, 1)\n",
    "\n",
    "    num_tokens = src.shape[0]\n",
    "    src_mask = (torch.zeros(num_tokens, num_tokens)).type(torch.bool)\n",
    "    \n",
    "    embedding = model.encode(src.to(const.device), src_mask.to(const.device))\n",
    "\n",
    "    return (sum(embedding) / len(embedding))[0].cpu().detach().numpy()"
   ]
  },
  {
   "cell_type": "code",
   "execution_count": 39,
   "metadata": {},
   "outputs": [
    {
     "name": "stdout",
     "output_type": "stream",
     "text": [
      "(512,)\n"
     ]
    },
    {
     "data": {
      "text/plain": [
       "array([ 2.62033969e-01,  2.30568573e-02,  3.30151245e-02,  2.79566795e-01,\n",
       "       -2.11553514e-01,  1.39802098e+00,  4.47563648e-01, -7.24618196e-01,\n",
       "       -1.30015993e+00,  1.03910887e+00,  4.29171056e-01,  1.67328525e+00,\n",
       "        5.45934319e-01,  1.74245536e-02, -8.06599855e-01, -1.78526378e+00,\n",
       "        6.24942899e-01,  1.39308214e+00,  6.77251458e-01,  1.68812349e-01,\n",
       "        1.87728715e+00,  2.47241080e-01,  6.10226691e-01, -6.37698948e-01,\n",
       "        3.33397985e-01, -1.42186713e+00, -9.16722938e-02,  1.41991645e-01,\n",
       "       -1.60236621e+00,  4.80443299e-01,  1.28112102e+00, -2.99914658e-01,\n",
       "       -5.24576068e-01,  6.88712835e-01,  5.83265603e-01, -2.01417089e-01,\n",
       "        4.46875632e-01, -1.62483335e+00, -2.01780057e+00,  1.12729657e+00,\n",
       "       -1.85715616e+00,  1.32140732e+00,  1.16386724e+00, -8.00134122e-01,\n",
       "       -1.77045166e+00,  1.41623068e+00, -2.07292110e-01, -2.49799579e-01,\n",
       "       -5.00233293e-01,  5.64852282e-02, -7.86109865e-01,  5.72557151e-01,\n",
       "       -7.62855887e-01,  1.02979469e+00, -6.23544395e-01,  2.18369700e-02,\n",
       "        1.27757001e+00,  9.53005731e-01,  9.85103846e-02,  6.56974137e-01,\n",
       "        1.45822191e+00,  4.66104865e-01,  2.72569299e-01,  1.29890704e+00,\n",
       "        1.06109881e+00,  1.26178980e+00,  5.03020883e-01, -1.02384782e+00,\n",
       "        3.81402850e-01,  5.50581336e-01, -2.88579494e-01,  9.58328009e-01,\n",
       "        1.74301863e+00,  4.60989714e-01,  1.36035061e+00,  2.04979524e-01,\n",
       "       -9.21206772e-02,  1.36499393e+00,  2.65104085e-01,  1.29681623e+00,\n",
       "       -4.35609482e-02, -2.22058937e-01, -9.19329226e-01, -1.56640813e-01,\n",
       "       -2.12026432e-01, -2.35080689e-01, -5.19139290e-01, -1.07549608e+00,\n",
       "        5.61234593e-01,  1.11832273e+00,  1.11127555e+00, -7.02917814e-01,\n",
       "       -1.08771551e+00,  6.36408389e-01,  8.64119411e-01,  1.44665158e+00,\n",
       "        7.07100868e-01, -2.62604833e-01, -1.19268966e+00, -9.71801043e-01,\n",
       "       -1.45387471e+00,  1.84497178e+00, -5.10250330e-01,  1.84244132e+00,\n",
       "       -4.24692690e-01,  2.39913988e+00, -6.42903075e-02, -2.44037676e+00,\n",
       "        9.11577791e-03, -4.11723912e-01, -7.04919398e-02,  2.23724216e-01,\n",
       "       -4.69617009e-01,  7.86889613e-01,  7.44625330e-01,  8.01960349e-01,\n",
       "       -1.99573970e+00, -4.62655783e-01, -8.78535748e-01,  8.84240091e-01,\n",
       "       -1.11440277e+00, -2.27981353e+00, -6.25757337e-01,  1.24885231e-01,\n",
       "        2.82295942e-02,  1.77146947e+00, -7.79578984e-01,  1.38681531e+00,\n",
       "       -2.59803128e+00,  1.00993288e+00, -1.19314566e-01, -2.40608379e-01,\n",
       "       -8.35943967e-02, -8.11033726e-01, -4.50343013e-01, -2.83780009e-01,\n",
       "       -4.12015289e-01,  1.47371069e-01, -6.51025474e-01,  5.16213998e-02,\n",
       "       -1.29430950e+00, -1.15849829e+00,  7.79023096e-02,  7.78185964e-01,\n",
       "       -4.16653603e-01, -2.01419398e-01,  6.92093015e-01,  2.94382513e-01,\n",
       "       -3.70025098e-01,  7.64001384e-02, -4.22988087e-01,  9.03011978e-01,\n",
       "       -2.74705648e-01,  1.02508271e+00,  4.32732254e-01, -2.93304533e-01,\n",
       "       -4.79148835e-01,  7.52502620e-01, -3.80999327e-01, -8.79410580e-02,\n",
       "        5.98414540e-01, -2.50077033e+00, -1.06029475e+00,  1.95533678e-01,\n",
       "       -8.27849746e-01,  2.01197934e+00,  4.57119018e-01, -1.41441298e+00,\n",
       "       -9.43162858e-01,  3.53013933e-01,  8.95667434e-01,  3.34137976e-01,\n",
       "        7.01972842e-01,  5.38304210e-01,  8.74116898e-01, -9.50821042e-01,\n",
       "        6.23680949e-01,  8.74871373e-01,  3.12638246e-02, -7.60196149e-01,\n",
       "       -1.05940092e+00,  6.50411904e-01, -8.53593826e-01, -2.04925799e+00,\n",
       "        2.74300903e-01,  5.84228814e-01, -9.89038527e-01, -1.15160191e+00,\n",
       "       -3.30263525e-01,  1.47368515e+00,  1.30974019e+00, -1.04898858e+00,\n",
       "        2.45164745e-02,  1.42182159e+00,  7.70338655e-01, -1.12130141e+00,\n",
       "       -1.38558418e-01, -8.55174661e-01,  1.39701545e-01,  4.15156662e-01,\n",
       "        1.01904988e+00, -2.91925550e-01,  1.12379324e+00, -6.09006882e-01,\n",
       "        4.40019220e-01, -7.61712849e-01,  2.05434251e+00, -2.06087768e-01,\n",
       "       -8.40947032e-01,  7.72590876e-01,  4.39633913e-02, -2.03043962e+00,\n",
       "        2.78055668e-01,  4.32616398e-02, -1.58295333e+00, -2.34546721e-01,\n",
       "       -9.39155579e-01,  1.66136786e-01,  8.05512190e-01, -1.25266707e+00,\n",
       "       -2.84882367e-01,  1.43278480e+00, -1.10946822e+00,  6.83096349e-01,\n",
       "        1.10175753e+00, -6.79239035e-02,  8.97701234e-02,  1.24372518e+00,\n",
       "        1.63559425e+00, -5.01828611e-01,  9.31153417e-01, -1.22205544e+00,\n",
       "        1.00462615e+00, -4.77953970e-01, -1.19822836e+00,  6.52636945e-01,\n",
       "       -1.10047340e+00, -3.22780728e-01,  1.20734334e+00,  2.87617236e-01,\n",
       "       -1.85060310e+00,  7.99041986e-01,  2.08222538e-01,  1.15724847e-01,\n",
       "        1.01225793e+00,  9.89313006e-01,  1.06580770e+00, -9.28440452e-01,\n",
       "       -3.45275462e-01,  3.20212394e-02,  7.68534720e-01,  5.71824014e-01,\n",
       "       -1.61666024e+00,  2.52744071e-02, -1.64939630e+00, -4.70916927e-01,\n",
       "        4.56406653e-01,  4.39284071e-02,  4.58811492e-01, -1.14061087e-02,\n",
       "       -1.30507851e+00,  9.85461950e-01, -5.70201278e-01,  6.54358983e-01,\n",
       "       -2.32555342e+00,  4.77928728e-01,  6.10216618e-01, -7.53907025e-01,\n",
       "       -8.84345531e-01, -4.25922155e-01,  7.69358635e-01,  1.06810176e+00,\n",
       "        1.18614781e+00, -9.79116499e-01, -1.54603946e+00,  4.30273652e-01,\n",
       "       -1.08660281e+00,  1.52012610e+00,  2.68245377e-02,  2.21942395e-01,\n",
       "        2.19926047e+00,  6.79019272e-01, -3.71323735e-01,  5.89879513e-01,\n",
       "       -4.51602578e-01,  1.07585037e+00, -9.50185955e-01, -5.34345210e-01,\n",
       "       -4.20473993e-01,  8.82091165e-01,  5.59105098e-01, -1.03059626e+00,\n",
       "       -6.03546858e-01, -2.70898253e-01, -6.41519547e-01,  8.31044436e-01,\n",
       "        3.64865780e-01,  5.63234210e-01,  2.43057042e-01, -4.47121382e-01,\n",
       "        2.53122479e-01, -4.55638289e-01,  6.86423779e-01,  1.15675196e-01,\n",
       "        3.71279567e-02, -2.65866697e-01, -9.33890581e-01,  1.30647910e+00,\n",
       "       -1.11852479e+00,  3.87658596e-01,  1.22983408e+00, -5.09253204e-01,\n",
       "       -1.15542936e+00, -1.41339749e-01, -8.45865607e-01,  2.31868649e+00,\n",
       "       -3.58513445e-02, -4.04542200e-02,  5.55860996e-01, -2.97403544e-01,\n",
       "        3.42555046e-01, -6.75185978e-01, -2.11061537e-03,  2.62152767e+00,\n",
       "       -8.71376097e-01,  7.72009134e-01,  1.95253849e+00, -2.75993109e+00,\n",
       "        7.67594397e-01,  3.54967862e-01,  1.55595410e+00, -9.59623158e-01,\n",
       "       -1.26649392e+00,  1.07733738e+00, -4.54776213e-02, -1.23111546e+00,\n",
       "        7.62201786e-01,  1.02390277e+00, -1.14068460e+00,  4.42094147e-01,\n",
       "       -1.16125095e+00, -1.50615126e-02, -8.73833179e-01,  1.10238880e-01,\n",
       "       -8.69700432e-01, -3.98213863e-01,  3.59418601e-01,  7.80150056e-01,\n",
       "       -9.60131168e-01, -3.44453007e-02,  2.06359863e-01, -6.20633423e-01,\n",
       "        1.59934533e+00, -1.18104219e+00, -1.88171220e+00,  3.63024741e-01,\n",
       "        5.75997353e-01,  8.35238159e-01, -9.12301019e-02,  1.08926252e-01,\n",
       "       -2.41853178e-01, -7.91148484e-01,  4.59128976e-01,  1.17452919e-01,\n",
       "       -2.27479744e+00,  1.15806982e-01,  4.99386728e-01, -9.07251477e-01,\n",
       "        1.10677445e+00, -7.24780917e-01, -5.60914159e-01,  3.64682406e-01,\n",
       "       -2.80354738e-01,  7.60057569e-01,  8.30759943e-01,  1.64312243e+00,\n",
       "        2.44826674e-01,  4.51322079e-01, -7.28930712e-01, -2.32318118e-02,\n",
       "       -2.92549938e-01,  1.53748810e+00,  6.41299307e-01, -2.72293419e-01,\n",
       "       -1.47894907e+00,  5.94359994e-01, -4.48431313e-01,  2.52009010e+00,\n",
       "        7.83985332e-02,  7.01712966e-01,  1.75148630e+00,  3.49748656e-02,\n",
       "        7.53515422e-01, -1.09644437e+00, -2.26603717e-01,  1.02841651e+00,\n",
       "        8.66956532e-01, -7.89987594e-02,  4.65796024e-01, -6.40387893e-01,\n",
       "       -9.42737699e-01,  2.10858059e+00, -1.13788950e+00, -9.54514742e-01,\n",
       "        9.64032531e-01,  3.02086443e-01, -1.24901426e+00, -1.14479136e+00,\n",
       "       -6.49580121e-01,  1.97855771e-01, -4.36216831e-01, -2.11621761e-01,\n",
       "       -4.04122472e-01,  8.95158350e-02, -8.54464889e-01, -7.96043217e-01,\n",
       "       -7.42054284e-01, -8.09441328e-01, -6.77950501e-01,  5.02835095e-01,\n",
       "       -6.60235405e-01,  1.66598332e+00, -1.45196426e+00, -1.72092986e+00,\n",
       "        4.12309855e-01, -1.40467823e-01,  3.03924501e-01, -5.61843336e-01,\n",
       "       -1.16823626e+00, -1.40000176e+00, -1.19247687e+00,  9.78716791e-01,\n",
       "       -3.61374617e-02, -1.19379151e+00, -1.06347799e+00,  1.82225478e+00,\n",
       "       -4.26297307e-01, -7.88077042e-02,  2.07192570e-01, -1.49729574e+00,\n",
       "       -1.05865288e+00,  4.84229445e-01,  8.78421426e-01,  1.91476420e-01,\n",
       "       -2.84839153e-01, -6.43580317e-01, -6.55231535e-01, -3.62858027e-01,\n",
       "       -1.48648620e+00, -2.93289483e-01, -2.37498119e-01,  1.35747039e+00,\n",
       "       -3.21142912e-01,  1.42793655e+00, -8.40576142e-02, -3.03232223e-01,\n",
       "       -2.51890755e+00, -4.24149334e-01,  8.05493444e-02,  5.75238526e-01,\n",
       "        7.08380818e-01, -2.75411904e-01,  3.73780400e-01,  7.09622979e-01,\n",
       "        3.84824395e-01, -4.25356388e-01, -1.54413640e+00,  3.95548254e-01,\n",
       "        2.13180232e+00, -1.34966886e+00, -9.36418772e-01,  1.69846594e-01,\n",
       "        2.20722973e-01,  1.62981117e+00, -2.34087682e+00,  1.52964211e+00,\n",
       "       -3.20062131e-01, -5.67022622e-01, -7.68644989e-01,  9.50779498e-01,\n",
       "        2.60601044e+00,  1.26585150e+00,  3.52806717e-01, -3.94961208e-01,\n",
       "        7.54202664e-01,  6.09039664e-01, -4.82593775e-01,  8.50245282e-02,\n",
       "       -6.46373510e-01, -5.17140448e-01,  1.22586322e+00, -8.49644065e-01,\n",
       "       -4.46385652e-01, -1.86461031e-01, -2.23443747e-01,  7.48112202e-01,\n",
       "        1.04948491e-01, -1.50892746e+00, -1.36671054e+00, -2.24846944e-01,\n",
       "        3.79384816e-01,  3.88284266e-01, -3.04210126e-01,  1.10268936e-01,\n",
       "       -2.51497686e-01, -3.46845955e-01, -1.42033207e+00, -1.29300547e+00,\n",
       "        5.74944496e-01,  8.60002637e-01, -9.72680822e-02, -1.30651206e-01],\n",
       "      dtype=float32)"
      ]
     },
     "execution_count": 39,
     "metadata": {},
     "output_type": "execute_result"
    }
   ],
   "source": [
    "embedding = get_embedding(transformer, \"здравей\")\n",
    "\n",
    "print(embedding.shape)\n",
    "\n",
    "embedding"
   ]
  },
  {
   "cell_type": "code",
   "execution_count": 19,
   "metadata": {},
   "outputs": [
    {
     "name": "stdout",
     "output_type": "stream",
     "text": [
      " zdrʌ vɛj , kʌk stɛ ? \n",
      " dob rɛ sɐm , blʌ go dʌr jɐ . \n",
      " xvɐr ljɐ \n",
      " bɐl gʌr ski ɛ zik \n",
      " ɛ zik bɐl gʌr ski ɛ zik \n",
      " ljɐ to to ɛ mo ɛ to ljo bi mo vrɛ mɛ nʌ go di nʌ tʌ . \n",
      " v pʌr kʌ rʌz lit tjɐ xʌ nɛ vɛ ro jɐt ni tsvɛt jɐ . \n",
      " mo zi kʌ tʌ os po ko jɐ vʌ do ʃʌ tʌ mi slɛd dɐ lɐg rʌ bo tɛn dɛn . \n",
      " vtʃɛ rʌ sɛ srɛʃ tnʌx sɐs stʌr pri jɐ tɛl , ko go to nɛ bjɐx viʒ dʌl go di ni . \n",
      " tʃɛ tɛ nɛ to nʌ kni gi rʌz ʃir jɐ vʌ xo ri zon ti tɛ i o bo gʌt jɐ vʌ rɛt ʃni kʌ . \n"
     ]
    }
   ],
   "source": [
    "print(translate(transformer, \"здравей, как сте?\"))\n",
    "print(translate(transformer, \"Добре съм, благодаря.\"))\n",
    "print(translate(transformer, \"Айрян\"))\n",
    "print(translate(transformer, \"Български език\"))\n",
    "print(translate(transformer, \"език Български език\"))\n",
    "print(translate(transformer, \"Лятото е моето любимо време на годината.\"))\n",
    "print(translate(transformer, \"В парка разцъфтяха невероятни цветя.\"))\n",
    "print(translate(transformer, \"Музиката успокоява душата ми след дълъг работен ден.\"))\n",
    "print(translate(transformer, \"Вчера се срещнах със стар приятел, когото не бях виждал години.\"))\n",
    "print(translate(transformer, \"Четенето на книги разширява хоризонтите и обогатява речника.\"))"
   ]
  },
  {
   "cell_type": "code",
   "execution_count": 36,
   "metadata": {},
   "outputs": [
    {
     "data": {
      "text/plain": [
       "0     аванпост\n",
       "1       авиоас\n",
       "2      авиобос\n",
       "3    авиобранш\n",
       "4     авиоград\n",
       "Name: word, dtype: object"
      ]
     },
     "execution_count": 36,
     "metadata": {},
     "output_type": "execute_result"
    }
   ],
   "source": [
    "words = pd.read_csv('/mnt/d/Projects/masters-thesis/data/words.csv', header=None, names=['word', 'transcription'])\n",
    "words['word'].head()"
   ]
  },
  {
   "cell_type": "code",
   "execution_count": null,
   "metadata": {},
   "outputs": [],
   "source": [
    "for word in words['word'].iloc:\n",
    "    translate(transformer, word)"
   ]
  }
 ],
 "metadata": {
  "kernelspec": {
   "display_name": ".venv",
   "language": "python",
   "name": "python3"
  },
  "language_info": {
   "codemirror_mode": {
    "name": "ipython",
    "version": 3
   },
   "file_extension": ".py",
   "mimetype": "text/x-python",
   "name": "python",
   "nbconvert_exporter": "python",
   "pygments_lexer": "ipython3",
   "version": "3.10.12"
  },
  "orig_nbformat": 4
 },
 "nbformat": 4,
 "nbformat_minor": 2
}
