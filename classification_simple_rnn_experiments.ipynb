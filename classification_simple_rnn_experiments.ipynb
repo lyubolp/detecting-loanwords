{
 "cells": [
  {
   "cell_type": "code",
   "execution_count": 13,
   "metadata": {},
   "outputs": [],
   "source": [
    "import json\n",
    "\n",
    "import pandas as pd\n",
    "import torch\n",
    "\n",
    "from torch import nn\n",
    "\n",
    "from src.word_to_embedding import WordToEmbedding\n",
    "\n",
    "RANDOM_STATE = 42\n",
    "device = torch.device('cuda' if torch.cuda.is_available() else 'cpu')"
   ]
  },
  {
   "cell_type": "code",
   "execution_count": 14,
   "metadata": {},
   "outputs": [],
   "source": [
    "w2e = WordToEmbedding()"
   ]
  },
  {
   "cell_type": "code",
   "execution_count": 15,
   "metadata": {},
   "outputs": [],
   "source": [
    "class LoanwordClassifier(nn.Module):\n",
    "    def __init__(self, input_size: int, hidden_size: int, output_size: int):\n",
    "        super().__init__()\n",
    "        self.__hidden_size = hidden_size\n",
    "\n",
    "        self.__i2h = nn.Linear(input_size + self.__hidden_size, self.__hidden_size).to(device)\n",
    "        self.__h2o = nn.Linear(hidden_size, output_size).to(device)\n",
    "        self.__softmax = nn.LogSoftmax(dim=1).to(device)\n",
    "\n",
    "    def forward(self, input_tensor, hidden):\n",
    "        combined = torch.cat((input_tensor.to(device), hidden.to(device)), 1).to(device)\n",
    "        hidden = self.__i2h(combined).to(device)\n",
    "        output = self.__h2o(hidden).to(device)\n",
    "        output = self.__softmax(output).to(device)\n",
    "\n",
    "        return output, hidden\n",
    "\n",
    "    def init_hidden(self):\n",
    "        return torch.zeros(1, self.__hidden_size)"
   ]
  },
  {
   "cell_type": "code",
   "execution_count": 16,
   "metadata": {},
   "outputs": [],
   "source": [
    "def category_from_output(output, id_to_label):\n",
    "    top_n, top_i = output.topk(1)\n",
    "\n",
    "    category_i = top_i[0].item()\n",
    "    return id_to_label[category_i], category_i"
   ]
  },
  {
   "cell_type": "code",
   "execution_count": 17,
   "metadata": {},
   "outputs": [],
   "source": [
    "def predict(word, model, id_to_label):\n",
    "    word_tensor = torch.Tensor(w2e.get_embedding(word))\n",
    "\n",
    "    word_tensor_shape = word_tensor.shape\n",
    "    word_tensor = word_tensor.reshape((word_tensor_shape[0], 1, word_tensor_shape[1]))\n",
    "\n",
    "    hidden = model.init_hidden()\n",
    "\n",
    "    for syllable_embedding in word_tensor:\n",
    "        output, hidden = model(syllable_embedding, hidden)\n",
    "    \n",
    "    # predicted_label, predicted_label_id = category_from_output(output, id_to_label)\n",
    "\n",
    "    probabilities, label_ids = output.topk(5)\n",
    "\n",
    "    return {id_to_label[label_id.item()]: probability.item() for probability, label_id in zip(probabilities[0], label_ids[0])}"
   ]
  },
  {
   "cell_type": "code",
   "execution_count": 27,
   "metadata": {},
   "outputs": [
    {
     "data": {
      "text/plain": [
       "<All keys matched successfully>"
      ]
     },
     "execution_count": 27,
     "metadata": {},
     "output_type": "execute_result"
    }
   ],
   "source": [
    "with open('models/label-to-id-2024-02-06-1024hidden-10epochs.json') as fp:\n",
    "    label_to_id = json.load(fp)\n",
    "\n",
    "with open('models/id-to-label-2024-02-06-1024hidden-10epochs.json') as fp:\n",
    "    id_to_label = json.load(fp)\n",
    "\n",
    "id_to_label = {int(key): value for key, value in id_to_label.items()}\n",
    "\n",
    "model = LoanwordClassifier(input_size=512, hidden_size=1024, output_size=len(label_to_id))\n",
    "\n",
    "state_dict_path = 'models/classifier-2024-02-06-1024hidden-10epochs.pth'\n",
    "model.load_state_dict(torch.load(state_dict_path, map_location=torch.device('cpu')))"
   ]
  },
  {
   "cell_type": "code",
   "execution_count": 26,
   "metadata": {},
   "outputs": [
    {
     "data": {
      "text/plain": [
       "{'bg': -0.38887545466423035,\n",
       " 'fr': -2.57806134223938,\n",
       " 'la': -2.737632989883423,\n",
       " 'en': -2.968045711517334,\n",
       " 'el': -2.98453950881958}"
      ]
     },
     "execution_count": 26,
     "metadata": {},
     "output_type": "execute_result"
    }
   ],
   "source": [
    "predict('рахат', model, id_to_label)"
   ]
  }
 ],
 "metadata": {
  "kernelspec": {
   "display_name": ".venv",
   "language": "python",
   "name": "python3"
  },
  "language_info": {
   "codemirror_mode": {
    "name": "ipython",
    "version": 3
   },
   "file_extension": ".py",
   "mimetype": "text/x-python",
   "name": "python",
   "nbconvert_exporter": "python",
   "pygments_lexer": "ipython3",
   "version": "3.10.12"
  }
 },
 "nbformat": 4,
 "nbformat_minor": 2
}
