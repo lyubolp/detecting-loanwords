{
 "cells": [
  {
   "cell_type": "code",
   "execution_count": 1,
   "metadata": {},
   "outputs": [],
   "source": [
    "# Standard library imports\n",
    "import json\n",
    "import os\n",
    "\n",
    "from copy import deepcopy\n",
    "from typing import Iterable, List\n",
    "\n",
    "# Third party imports\n",
    "import pandas as pd\n",
    "import torch\n",
    "import torch.nn as nn\n",
    "import tqdm\n",
    "\n",
    "from nltk.tokenize import word_tokenize\n",
    "\n",
    "from torch.nn.utils.rnn import pad_sequence\n",
    "from torch.utils.data import Dataset, DataLoader\n",
    "from torch.utils.data.sampler import SubsetRandomSampler\n",
    "\n",
    "from torchtext.data.utils import get_tokenizer\n",
    "from torchtext.vocab import build_vocab_from_iterator\n",
    "from torchtext.datasets import multi30k, Multi30k\n",
    "\n",
    "# Local application imports\n",
    "import src.constants as const\n",
    "from src.dataset_utils import yield_tokens, sentence_to_tensor, load_files, build_vocab_transformation, tokenize_source, tokenize_target\n",
    "from src.training_utils import train_epoch, evaluate, sequential_transforms, tensor_transform\n",
    "from src.transcription_dataset_single_word import TranscriptionDataset\n",
    "from src.transformer_model import Seq2SeqTransformer, generate_square_subsequent_mask, create_mask\n",
    "from src.syllable_splitter import split_word"
   ]
  },
  {
   "cell_type": "code",
   "execution_count": 2,
   "metadata": {},
   "outputs": [],
   "source": [
    "import warnings\n",
    "warnings.filterwarnings('ignore')"
   ]
  },
  {
   "cell_type": "markdown",
   "metadata": {},
   "source": [
    "# Dataset stuff"
   ]
  },
  {
   "cell_type": "code",
   "execution_count": 3,
   "metadata": {},
   "outputs": [
    {
     "data": {
      "text/plain": [
       "'606102 words loaded'"
      ]
     },
     "execution_count": 3,
     "metadata": {},
     "output_type": "execute_result"
    }
   ],
   "source": [
    "words_filepath = '/mnt/d/Projects/masters-thesis/data/single_words.txt'\n",
    "\n",
    "with open(words_filepath, 'r') as f:\n",
    "    words = f.readlines()\n",
    "amount_of_words = len(words)\n",
    "\n",
    "f'{amount_of_words} words loaded'"
   ]
  },
  {
   "cell_type": "code",
   "execution_count": 4,
   "metadata": {},
   "outputs": [],
   "source": [
    "vowels_transcription = ['a', 'ʌ', 'ɤ̞',  'ɐ', 'ɔ', 'o', 'u', 'ɛ', 'i']"
   ]
  },
  {
   "cell_type": "code",
   "execution_count": 5,
   "metadata": {},
   "outputs": [],
   "source": [
    "# Train & test split\n",
    "sentences_to_use = amount_of_words\n",
    "train_split = int(const.TRAIN_TEST_SPLIT * sentences_to_use)\n",
    "validation_split = int((const.TRAIN_TEST_SPLIT + const.TRAIN_VALIDATION_SPLIT) * sentences_to_use)"
   ]
  },
  {
   "cell_type": "code",
   "execution_count": 6,
   "metadata": {},
   "outputs": [],
   "source": [
    "train_dataset = TranscriptionDataset(words_filepath, tokenization_src=split_word, \n",
    "                                     tokenization_tgt=lambda x: split_word(x, vowels_transcription),\n",
    "                                     start_index=0, end_index=train_split)\n",
    "validation_dataset = TranscriptionDataset(words_filepath, tokenization_src=split_word,\n",
    "                                          tokenization_tgt=lambda x: split_word(x, vowels_transcription),\n",
    "                                          start_index=train_split, end_index=validation_split)\n",
    "test_dataset = TranscriptionDataset(words_filepath, tokenization_src=split_word,\n",
    "                                    tokenization_tgt=lambda x: split_word(x, vowels_transcription),\n",
    "                                    start_index=validation_split, end_index=amount_of_words)"
   ]
  },
  {
   "cell_type": "code",
   "execution_count": 7,
   "metadata": {},
   "outputs": [],
   "source": [
    "for ln in [const.SRC_LANGUAGE, const.TGT_LANGUAGE]:\n",
    "    # Create torchtext's Vocab object\n",
    "    const.vocab_transform[ln] = build_vocab_transformation(train_dataset, ln)"
   ]
  },
  {
   "cell_type": "code",
   "execution_count": 8,
   "metadata": {},
   "outputs": [],
   "source": [
    "text_transform_src = sequential_transforms(const.vocab_transform[const.SRC_LANGUAGE], #Numericalization\n",
    "                                                tensor_transform) # Add BOS/EOS and create tensor\n",
    "\n",
    "vowels_transcription = ['a', 'ʌ', 'ɤ̞',  'ɐ', 'ɔ', 'o', 'u', 'ɛ', 'i']\n",
    "text_transform_tgt = sequential_transforms(const.vocab_transform[const.TGT_LANGUAGE], #Numericalization\n",
    "                                                tensor_transform) # Add BOS/EOS and create tensor\n"
   ]
  },
  {
   "cell_type": "code",
   "execution_count": 9,
   "metadata": {},
   "outputs": [],
   "source": [
    "# function to collate data samples into batch tensors\n",
    "def collate_fn(batch):\n",
    "    src_batch, tgt_batch = [], []\n",
    "    for src_sample, tgt_sample in batch:\n",
    "        src_batch.append(text_transform_src(src_sample))\n",
    "        tgt_batch.append(text_transform_tgt(tgt_sample))\n",
    "\n",
    "    src_batch = pad_sequence(src_batch, padding_value=const.PAD_IDX)\n",
    "    tgt_batch = pad_sequence(tgt_batch, padding_value=const.PAD_IDX)\n",
    "    return src_batch, tgt_batch"
   ]
  },
  {
   "cell_type": "code",
   "execution_count": 10,
   "metadata": {},
   "outputs": [],
   "source": [
    "train_dataloader = DataLoader(deepcopy(train_dataset), batch_size=128, collate_fn=collate_fn)\n",
    "validation_dataloader = DataLoader(deepcopy(validation_dataset), batch_size=128, collate_fn=collate_fn)\n",
    "test_dataloader = DataLoader(deepcopy(test_dataset), batch_size=128, collate_fn=collate_fn)"
   ]
  },
  {
   "cell_type": "code",
   "execution_count": 11,
   "metadata": {},
   "outputs": [
    {
     "name": "stdout",
     "output_type": "stream",
     "text": [
      "0\n",
      "(['тя'], ['tjɐ'])\n",
      "1\n",
      "(['го'], ['go'])\n",
      "2\n",
      "(['раз', 'би', 'ра', 'ше'], ['rʌz', 'bi', 'rʌ', 'ʃɛ'])\n",
      "3\n",
      "(['на', 'пъл', 'но'], ['nʌ', 'pɐl', 'no'])\n",
      "4\n",
      "(['а'], ['ʌ'])\n",
      "5\n",
      "(['ар', 'ган', 'те'], ['ʌr', 'gʌn', 'tɛ'])\n",
      "6\n",
      "(['раз', 'би', 'ра', 'ше'], ['rʌz', 'bi', 'rʌ', 'ʃɛ'])\n",
      "7\n",
      "(['ли'], ['li'])\n",
      "8\n",
      "(['го'], ['go'])\n",
      "9\n",
      "(['о'], ['o'])\n",
      "10\n",
      "(['не'], ['nɛ'])\n",
      "11\n",
      "(['тя'], ['tjɐ'])\n",
      "12\n",
      "(['мо', 'же', 'ше'], ['mo', 'ʒɛ', 'ʃɛ'])\n",
      "13\n",
      "(['ли'], ['li'])\n",
      "14\n",
      "(['да'], ['dʌ'])\n",
      "15\n",
      "(['че', 'те'], ['tʃɛ', 'tɛ'])\n",
      "16\n",
      "(['не'], ['nɛ'])\n",
      "17\n"
     ]
    },
    {
     "ename": "StopIteration",
     "evalue": "",
     "output_type": "error",
     "traceback": [
      "\u001b[0;31m---------------------------------------------------------------------------\u001b[0m",
      "\u001b[0;31mStopIteration\u001b[0m                             Traceback (most recent call last)",
      "Cell \u001b[0;32mIn[11], line 3\u001b[0m\n\u001b[1;32m      1\u001b[0m \u001b[38;5;28;01mfor\u001b[39;00m i \u001b[38;5;129;01min\u001b[39;00m \u001b[38;5;28mrange\u001b[39m(\u001b[38;5;241m128\u001b[39m):\n\u001b[1;32m      2\u001b[0m     \u001b[38;5;28mprint\u001b[39m(i)\n\u001b[0;32m----> 3\u001b[0m     \u001b[38;5;28mprint\u001b[39m(\u001b[43mtrain_dataset\u001b[49m\u001b[43m[\u001b[49m\u001b[38;5;241;43m3788\u001b[39;49m\u001b[43m \u001b[49m\u001b[38;5;241;43m*\u001b[39;49m\u001b[43m \u001b[49m\u001b[38;5;241;43m128\u001b[39;49m\u001b[43m \u001b[49m\u001b[38;5;241;43m+\u001b[39;49m\u001b[43m \u001b[49m\u001b[43mi\u001b[49m\u001b[43m]\u001b[49m)\n\u001b[1;32m      5\u001b[0m \u001b[38;5;66;03m# print(3788 * 128 + 17)\u001b[39;00m\n\u001b[1;32m      6\u001b[0m \u001b[38;5;66;03m# print(train_dataset[3788 * 128 + 17])\u001b[39;00m\n",
      "File \u001b[0;32m~/detecting-loanwords/src/transcription_dataset_single_word.py:40\u001b[0m, in \u001b[0;36mTranscriptionDataset.__getitem__\u001b[0;34m(self, idx)\u001b[0m\n\u001b[1;32m     38\u001b[0m idx \u001b[38;5;241m+\u001b[39m\u001b[38;5;241m=\u001b[39m \u001b[38;5;28mself\u001b[39m\u001b[38;5;241m.\u001b[39m__start_index\n\u001b[1;32m     39\u001b[0m \u001b[38;5;28;01mif\u001b[39;00m idx \u001b[38;5;241m>\u001b[39m\u001b[38;5;241m=\u001b[39m \u001b[38;5;28mself\u001b[39m\u001b[38;5;241m.\u001b[39m__end_index:\n\u001b[0;32m---> 40\u001b[0m     \u001b[38;5;28;01mraise\u001b[39;00m \u001b[38;5;167;01mStopIteration\u001b[39;00m\n\u001b[1;32m     42\u001b[0m row \u001b[38;5;241m=\u001b[39m \u001b[38;5;28mself\u001b[39m\u001b[38;5;241m.\u001b[39m__data\u001b[38;5;241m.\u001b[39miloc[idx]\n\u001b[1;32m     44\u001b[0m \u001b[38;5;28;01mif\u001b[39;00m \u001b[38;5;28misinstance\u001b[39m(row[\u001b[38;5;241m0\u001b[39m], \u001b[38;5;28mstr\u001b[39m):\n",
      "\u001b[0;31mStopIteration\u001b[0m: "
     ]
    }
   ],
   "source": [
    "for i in range(128):\n",
    "    print(i)\n",
    "    print(train_dataset[3788 * 128 + i])\n",
    "\n",
    "# print(3788 * 128 + 17)\n",
    "# print(train_dataset[3788 * 128 + 17])\n"
   ]
  },
  {
   "cell_type": "markdown",
   "metadata": {},
   "source": [
    "# Model stuff"
   ]
  },
  {
   "cell_type": "code",
   "execution_count": 12,
   "metadata": {},
   "outputs": [
    {
     "name": "stdout",
     "output_type": "stream",
     "text": [
      "5187 3387\n"
     ]
    }
   ],
   "source": [
    "\n",
    "torch.manual_seed(0)\n",
    "\n",
    "SRC_VOCAB_SIZE = len(const.vocab_transform[const.SRC_LANGUAGE])\n",
    "TGT_VOCAB_SIZE = len(const.vocab_transform[const.TGT_LANGUAGE])\n",
    "\n",
    "print(SRC_VOCAB_SIZE, TGT_VOCAB_SIZE)\n",
    "\n",
    "transformer = Seq2SeqTransformer(const.NUM_ENCODER_LAYERS, const.NUM_DECODER_LAYERS, const.EMB_SIZE,\n",
    "                                 const.NHEAD, SRC_VOCAB_SIZE, TGT_VOCAB_SIZE, const.FFN_HID_DIM)\n",
    "\n",
    "for p in transformer.parameters():\n",
    "    if p.dim() > 1:\n",
    "        nn.init.xavier_uniform_(p)\n",
    "\n",
    "transformer = transformer.to(const.device)\n",
    "\n",
    "loss_fn = torch.nn.CrossEntropyLoss(ignore_index=const.PAD_IDX)\n",
    "\n",
    "optimizer = torch.optim.Adam(transformer.parameters(), lr=0.0001, betas=(0.9, 0.98), eps=1e-9)\n"
   ]
  },
  {
   "cell_type": "code",
   "execution_count": 13,
   "metadata": {},
   "outputs": [
    {
     "name": "stdout",
     "output_type": "stream",
     "text": [
      "Epoch: 1, Train loss: 0.525, Val loss: 0.102, Epoch time = 148.193s\n",
      "Epoch: 2, Train loss: 0.082, Val loss: 0.055, Epoch time = 148.255s\n",
      "Epoch: 3, Train loss: 0.048, Val loss: 0.043, Epoch time = 150.409s\n",
      "Epoch: 4, Train loss: 0.036, Val loss: 0.037, Epoch time = 151.214s\n",
      "Epoch: 5, Train loss: 0.029, Val loss: 0.034, Epoch time = 147.975s\n",
      "Epoch: 6, Train loss: 0.025, Val loss: 0.032, Epoch time = 149.912s\n",
      "Epoch: 7, Train loss: 0.022, Val loss: 0.030, Epoch time = 149.436s\n",
      "Epoch: 8, Train loss: 0.020, Val loss: 0.030, Epoch time = 157.480s\n",
      "Epoch: 9, Train loss: 0.018, Val loss: 0.028, Epoch time = 157.681s\n",
      "Epoch: 10, Train loss: 0.017, Val loss: 0.027, Epoch time = 150.344s\n",
      "Epoch: 11, Train loss: 0.016, Val loss: 0.026, Epoch time = 148.412s\n",
      "Epoch: 12, Train loss: 0.015, Val loss: 0.027, Epoch time = 151.200s\n",
      "Epoch: 13, Train loss: 0.015, Val loss: 0.026, Epoch time = 150.477s\n",
      "Epoch: 14, Train loss: 0.014, Val loss: 0.026, Epoch time = 148.404s\n",
      "Epoch: 15, Train loss: 0.013, Val loss: 0.026, Epoch time = 148.401s\n",
      "Epoch: 16, Train loss: 0.013, Val loss: 0.025, Epoch time = 148.882s\n",
      "Epoch: 17, Train loss: 0.013, Val loss: 0.025, Epoch time = 155.404s\n",
      "Epoch: 18, Train loss: 0.013, Val loss: 0.025, Epoch time = 152.232s\n",
      "Epoch: 19, Train loss: 0.012, Val loss: 0.026, Epoch time = 146.840s\n",
      "Epoch: 20, Train loss: 0.012, Val loss: 0.024, Epoch time = 148.415s\n",
      "Epoch: 21, Train loss: 0.012, Val loss: 0.025, Epoch time = 147.778s\n",
      "Epoch: 22, Train loss: 0.012, Val loss: 0.026, Epoch time = 146.999s\n",
      "Epoch: 23, Train loss: 0.012, Val loss: 0.025, Epoch time = 146.859s\n",
      "Epoch: 24, Train loss: 0.011, Val loss: 0.025, Epoch time = 148.676s\n",
      "Epoch: 25, Train loss: 0.011, Val loss: 0.024, Epoch time = 147.963s\n"
     ]
    }
   ],
   "source": [
    "from timeit import default_timer as timer\n",
    "NUM_EPOCHS = 25\n",
    "\n",
    "for epoch in range(1, NUM_EPOCHS+1):\n",
    "    start_time = timer()\n",
    "    train_loss = train_epoch(transformer, optimizer, train_dataloader, loss_fn)\n",
    "    end_time = timer()\n",
    "    val_loss = evaluate(transformer, validation_dataloader, loss_fn)\n",
    "    print(f\"Epoch: {epoch}, Train loss: {train_loss:.3f}, Val loss: {val_loss:.3f}, \"f\"Epoch time = {(end_time - start_time):.3f}s\")"
   ]
  },
  {
   "cell_type": "code",
   "execution_count": 15,
   "metadata": {},
   "outputs": [],
   "source": [
    "from datetime import datetime\n",
    "today_date = datetime.today().strftime('%Y-%m-%d')\n",
    "\n",
    "torch.save(transformer.state_dict(), f'models/transformer-single-word-{today_date}-{sentences_to_use}-{NUM_EPOCHS}.pth')"
   ]
  },
  {
   "cell_type": "code",
   "execution_count": 13,
   "metadata": {},
   "outputs": [
    {
     "data": {
      "text/plain": [
       "<All keys matched successfully>"
      ]
     },
     "execution_count": 13,
     "metadata": {},
     "output_type": "execute_result"
    }
   ],
   "source": [
    "transformer.load_state_dict(torch.load('models/transformer-single-word-2023-11-10-606102-25.pth'))"
   ]
  },
  {
   "cell_type": "code",
   "execution_count": 14,
   "metadata": {},
   "outputs": [],
   "source": [
    "text_transform_src = sequential_transforms(tokenize_source,\n",
    "    const.vocab_transform[const.SRC_LANGUAGE], #Numericalization\n",
    "                                                tensor_transform) # Add BOS/EOS and create tensor\n",
    "\n",
    "vowels_transcription = ['a', 'ʌ', 'ɤ̞',  'ɐ', 'ɔ', 'o', 'u', 'ɛ', 'i']\n",
    "text_transform_tgt = sequential_transforms(const.vocab_transform[const.TGT_LANGUAGE], #Numericalization\n",
    "                                                tensor_transform) # Add BOS/EOS and create tensor"
   ]
  },
  {
   "cell_type": "code",
   "execution_count": 15,
   "metadata": {},
   "outputs": [],
   "source": [
    "# function to generate output sequence using greedy algorithm\n",
    "def greedy_decode(model, src, src_mask, max_len, start_symbol):\n",
    "    src = src.to(const.device)\n",
    "    src_mask = src_mask.to(const.device)\n",
    "\n",
    "    memory = model.encode(src, src_mask)\n",
    "    ys = torch.ones(1, 1).fill_(start_symbol).type(torch.long).to(const.device)\n",
    "    for i in range(max_len-1):\n",
    "        memory = memory.to(const.device)\n",
    "        tgt_mask = (generate_square_subsequent_mask(ys.size(0))\n",
    "                    .type(torch.bool)).to(const.device)\n",
    "        out = model.decode(ys, memory, tgt_mask)\n",
    "        out = out.transpose(0, 1)\n",
    "        prob = model.generator(out[:, -1])\n",
    "        _, next_word = torch.max(prob, dim=1)\n",
    "        next_word = next_word.item()\n",
    "\n",
    "        ys = torch.cat([ys,\n",
    "                        torch.ones(1, 1).type_as(src.data).fill_(next_word)], dim=0)\n",
    "        if next_word == const.EOS_IDX:\n",
    "            break\n",
    "    return ys\n",
    "\n",
    "\n",
    "# actual function to translate input sentence into target language\n",
    "def translate(model: torch.nn.Module, src_sentence: str):\n",
    "    src_sentence = src_sentence.lower()\n",
    "    model.eval()\n",
    "    src = text_transform_src(src_sentence).view(-1, 1)\n",
    "\n",
    "    num_tokens = src.shape[0]\n",
    "    src_mask = (torch.zeros(num_tokens, num_tokens)).type(torch.bool)\n",
    "    tgt_tokens = greedy_decode(\n",
    "        model,  src, src_mask, max_len=num_tokens + 5, start_symbol=const.BOS_IDX).flatten()\n",
    "    # print(list(tgt_tokens.cpu().numpy()))\n",
    "    return \" \".join(const.vocab_transform[const.TGT_LANGUAGE].lookup_tokens(list(tgt_tokens.cpu().numpy()))).replace(\"<bos>\", \"\").replace(\"<eos>\", \"\")"
   ]
  },
  {
   "cell_type": "code",
   "execution_count": 18,
   "metadata": {},
   "outputs": [
    {
     "name": "stdout",
     "output_type": "stream",
     "text": [
      " zdrʌ vɛj \n",
      " blʌ go dʌr jɐ \n",
      " ljɐ to \n",
      " zi mʌ \n",
      " kni gʌ \n",
      " kʌ fɛ \n",
      " sin jo \n",
      " tʃʌ jɐ jɐs nik \n",
      " grʌ di nʌ \n",
      " slɐn tsɛ \n",
      " mɛ sɛts \n",
      " ʒi vot \n",
      " rɛ kʌ \n",
      " mo zi kʌ \n",
      " xrʌ nʌ \n"
     ]
    }
   ],
   "source": [
    "bulgarian_words = [\n",
    "    'здравей',\n",
    "    'благодаря',\n",
    "    'лято',\n",
    "    'зима',\n",
    "    'книга',\n",
    "    'кафе',\n",
    "    'синьо',\n",
    "    'часовник',\n",
    "    'градина',\n",
    "    'слънце',\n",
    "    'месец',\n",
    "    'живот',\n",
    "    'река',\n",
    "    'музика',\n",
    "    'храна'\n",
    "]\n",
    "\n",
    "for word in bulgarian_words:\n",
    "    print(translate(transformer, word))"
   ]
  },
  {
   "cell_type": "code",
   "execution_count": 18,
   "metadata": {},
   "outputs": [
    {
     "data": {
      "text/plain": [
       "' po po '"
      ]
     },
     "execution_count": 18,
     "metadata": {},
     "output_type": "execute_result"
    }
   ],
   "source": [
    "translate(transformer, 'попо')"
   ]
  },
  {
   "cell_type": "code",
   "execution_count": 19,
   "metadata": {},
   "outputs": [
    {
     "data": {
      "text/plain": [
       "' po '"
      ]
     },
     "execution_count": 19,
     "metadata": {},
     "output_type": "execute_result"
    }
   ],
   "source": [
    "translate(transformer, 'по')"
   ]
  }
 ],
 "metadata": {
  "kernelspec": {
   "display_name": ".venv",
   "language": "python",
   "name": "python3"
  },
  "language_info": {
   "codemirror_mode": {
    "name": "ipython",
    "version": 3
   },
   "file_extension": ".py",
   "mimetype": "text/x-python",
   "name": "python",
   "nbconvert_exporter": "python",
   "pygments_lexer": "ipython3",
   "version": "3.10.12"
  },
  "orig_nbformat": 4
 },
 "nbformat": 4,
 "nbformat_minor": 2
}
