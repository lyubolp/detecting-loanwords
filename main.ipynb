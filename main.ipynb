{
 "cells": [
  {
   "cell_type": "code",
   "execution_count": 1,
   "metadata": {
    "collapsed": true
   },
   "outputs": [
    {
     "data": {
      "text/plain": [
       "True"
      ]
     },
     "execution_count": 1,
     "metadata": {},
     "output_type": "execute_result"
    }
   ],
   "source": [
    "import torch\n",
    "torch.cuda.is_available()"
   ]
  },
  {
   "attachments": {},
   "cell_type": "markdown",
   "metadata": {},
   "source": [
    "## Start datascraping"
   ]
  },
  {
   "cell_type": "code",
   "execution_count": 1,
   "metadata": {},
   "outputs": [],
   "source": [
    "import nltk\n",
    "import os\n",
    "\n",
    "from nltk.tokenize import word_tokenize, sent_tokenize\n",
    "from typing import List, Set"
   ]
  },
  {
   "cell_type": "code",
   "execution_count": 12,
   "metadata": {},
   "outputs": [],
   "source": [
    "def read_file(filename) -> List[str]:\n",
    "    with open(filename, 'r') as f:\n",
    "        return f.readlines()\n",
    "\n",
    "def tokenize_file_words(filename) -> Set[str]:\n",
    "    lines = read_file(filename)\n",
    "\n",
    "    lines = [line.strip() for line in lines]\n",
    "    lines = [line for line in lines if line != '']\n",
    "\n",
    "    tokens_per_line = [word_tokenize(line) for line in lines]\n",
    "    flattened_tokens = sum(tokens_per_line, [])\n",
    "    lowercased_tokens = [token.lower() for token in flattened_tokens]\n",
    "    tokens_without_punctuation_numbers = [token for token in lowercased_tokens if token.isalpha()]\n",
    "\n",
    "    tokens = set(tokens_without_punctuation_numbers)\n",
    "\n",
    "    return tokens\n",
    "\n",
    "def tokenize_file_sentences(filename) -> Set[str]:\n",
    "    lines = read_file(filename)\n",
    "\n",
    "    lines = [line.strip() for line in lines]\n",
    "    lines = [line for line in lines if line != '']\n",
    "\n",
    "    tokens_per_line = [sent_tokenize(line) for line in lines]\n",
    "\n",
    "    print(tokens_per_line)\n"
   ]
  },
  {
   "cell_type": "code",
   "execution_count": 13,
   "metadata": {},
   "outputs": [
    {
     "name": "stdout",
     "output_type": "stream",
     "text": [
      "['американска', 'американската', 'американски', 'американските', 'американския', 'американците', 'ами', 'амстердам', 'анализира', 'анализираше', 'ананас', 'ангажирана', 'ангел', 'англ', 'английски', 'английските', 'английския', 'английският', 'английско', 'англичанка']\n",
      "13368\n"
     ]
    }
   ],
   "source": [
    "for file in os.listdir('data'):\n",
    "    full_path = os.path.join('data', file)\n",
    "    word_tokens = tokenize_file_words(full_path)\n",
    "    \n",
    "    print(len(word_tokens))"
   ]
  },
  {
   "attachments": {},
   "cell_type": "markdown",
   "metadata": {},
   "source": [
    "## End datascraping"
   ]
  },
  {
   "cell_type": "code",
   "execution_count": null,
   "metadata": {},
   "outputs": [],
   "source": []
  }
 ],
 "metadata": {
  "kernelspec": {
   "display_name": ".venv",
   "language": "python",
   "name": "python3"
  },
  "language_info": {
   "codemirror_mode": {
    "name": "ipython",
    "version": 3
   },
   "file_extension": ".py",
   "mimetype": "text/x-python",
   "name": "python",
   "nbconvert_exporter": "python",
   "pygments_lexer": "ipython3",
   "version": "3.10.9"
  },
  "vscode": {
   "interpreter": {
    "hash": "9690224c8ba08809808eb1dea2a550f7a1d7415f0de077dd69f40462bd6d7bb6"
   }
  }
 },
 "nbformat": 4,
 "nbformat_minor": 0
}
