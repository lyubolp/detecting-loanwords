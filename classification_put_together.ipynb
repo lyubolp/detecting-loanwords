{
 "cells": [
  {
   "cell_type": "markdown",
   "metadata": {},
   "source": [
    "## Word prediction"
   ]
  },
  {
   "cell_type": "code",
   "execution_count": 1,
   "metadata": {},
   "outputs": [],
   "source": [
    "from src.loanword_predictor import LoanwordPredictor\n",
    "from src.word_to_embedding import WordToEmbedding"
   ]
  },
  {
   "cell_type": "code",
   "execution_count": 2,
   "metadata": {},
   "outputs": [],
   "source": [
    "w2e = WordToEmbedding()\n",
    "predictor = LoanwordPredictor(id_to_label_path='models/id-to-label-2024-02-06-1024hidden-10epochs.json',\n",
    "                              label_to_id_path='models/label-to-id-2024-02-06-1024hidden-10epochs.json',\n",
    "                              word_to_embedding=w2e,\n",
    "                              classifier_state_dict_path='models/classifier-2024-02-06-1024hidden-10epochs.pth')"
   ]
  },
  {
   "cell_type": "code",
   "execution_count": 7,
   "metadata": {},
   "outputs": [
    {
     "data": {
      "text/plain": [
       "{'bg': 0.6859366972949508,\n",
       " 'en': 0.11518884078887988,\n",
       " 'el': 0.06588915630261272,\n",
       " 'la': 0.03677257948203205,\n",
       " 'fr': 0.0339133863456033}"
      ]
     },
     "execution_count": 7,
     "metadata": {},
     "output_type": "execute_result"
    }
   ],
   "source": [
    "predictor.predict('юзър')"
   ]
  },
  {
   "cell_type": "markdown",
   "metadata": {},
   "source": [
    "## Sentence tokenization"
   ]
  },
  {
   "cell_type": "code",
   "execution_count": 11,
   "metadata": {},
   "outputs": [],
   "source": [
    "from nltk.tokenize import word_tokenize"
   ]
  },
  {
   "cell_type": "code",
   "execution_count": 13,
   "metadata": {},
   "outputs": [],
   "source": [
    "def tokenize_sentence(sentence: str) -> list[str]:\n",
    "    words = word_tokenize(sentence)\n",
    "    return [word.lower() for word in words]"
   ]
  },
  {
   "cell_type": "code",
   "execution_count": 14,
   "metadata": {},
   "outputs": [
    {
     "data": {
      "text/plain": [
       "['бързата', 'кафява', 'лисица', 'прескочи', 'новия', 'юзър']"
      ]
     },
     "execution_count": 14,
     "metadata": {},
     "output_type": "execute_result"
    }
   ],
   "source": [
    "sentence = 'Бързата кафява лисица прескочи новия юзър'\n",
    "tokenize_sentence(sentence)"
   ]
  },
  {
   "cell_type": "markdown",
   "metadata": {},
   "source": [
    "## All together"
   ]
  },
  {
   "cell_type": "code",
   "execution_count": 22,
   "metadata": {},
   "outputs": [],
   "source": [
    "def loanwords_analysis(sentence: str) -> list[dict[str, float]]:\n",
    "    words = tokenize_sentence(sentence)\n",
    "\n",
    "    return [(word, probabilities) for word in words if (probabilities := predictor.predict(word))['bg'] < 0.8]"
   ]
  },
  {
   "cell_type": "code",
   "execution_count": 23,
   "metadata": {},
   "outputs": [
    {
     "data": {
      "text/plain": [
       "'[[\"новия\", {\"bg\": 0.716601178121964, \"el\": 0.1774362767505004, \"tr\": 0.03090380324062624, \"en\": 0.025659734668319542, \"fr\": 0.01685414778646352}], [\"юзър\", {\"bg\": 0.6859366972949508, \"en\": 0.11518884078887988, \"el\": 0.06588915630261272, \"la\": 0.03677257948203205, \"fr\": 0.0339133863456033}]]'"
      ]
     },
     "execution_count": 23,
     "metadata": {},
     "output_type": "execute_result"
    }
   ],
   "source": [
    "import json\n",
    "json.dumps(loanwords_analysis(sentence), ensure_ascii=False)"
   ]
  }
 ],
 "metadata": {
  "kernelspec": {
   "display_name": ".venv",
   "language": "python",
   "name": "python3"
  },
  "language_info": {
   "codemirror_mode": {
    "name": "ipython",
    "version": 3
   },
   "file_extension": ".py",
   "mimetype": "text/x-python",
   "name": "python",
   "nbconvert_exporter": "python",
   "pygments_lexer": "ipython3",
   "version": "3.10.12"
  }
 },
 "nbformat": 4,
 "nbformat_minor": 2
}
