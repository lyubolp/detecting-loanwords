{
 "cells": [
  {
   "cell_type": "code",
   "execution_count": 1,
   "metadata": {},
   "outputs": [],
   "source": [
    "import json\n",
    "\n",
    "import matplotlib.pyplot as plt\n",
    "import matplotlib.ticker as ticker\n",
    "import pandas as pd\n",
    "import torch\n",
    "\n",
    "\n",
    "from collections import Counter\n",
    "\n",
    "from torch import nn\n",
    "from torch.utils.data import Dataset, DataLoader\n",
    "from tqdm import tqdm\n",
    "from sklearn.model_selection import train_test_split\n",
    "from sklearn.metrics import f1_score\n",
    "\n",
    "from src.word_to_embedding import WordToEmbedding\n",
    "\n",
    "RANDOM_STATE = 42\n",
    "device = torch.device('cuda' if torch.cuda.is_available() else 'cpu')"
   ]
  },
  {
   "cell_type": "code",
   "execution_count": 2,
   "metadata": {},
   "outputs": [],
   "source": [
    "w2e = WordToEmbedding()"
   ]
  },
  {
   "cell_type": "code",
   "execution_count": 3,
   "metadata": {},
   "outputs": [],
   "source": [
    "def generate_label_mapping(data: pd.DataFrame):\n",
    "    label_to_id = {item: i for i, item in enumerate(set(data['произход']))}\n",
    "    id_to_label = {index: label for label, index in label_to_id.items()}\n",
    "\n",
    "    return label_to_id, id_to_label"
   ]
  },
  {
   "cell_type": "code",
   "execution_count": 4,
   "metadata": {},
   "outputs": [],
   "source": [
    "class LoanwordsDataset(Dataset):\n",
    "    def __init__(self, data: pd.DataFrame, label_to_id: dict[str, int], embeddeing_engine: WordToEmbedding):\n",
    "        self.__data = data\n",
    "        self.__len = self.__data.shape[0]\n",
    "        \n",
    "        self.__label_mapping = label_to_id\n",
    "        self.__embeddeing_engine = embeddeing_engine\n",
    "\n",
    "\n",
    "    def __len__(self):\n",
    "        return self.__len\n",
    "\n",
    "    def __getitem__(self, index) -> tuple[str, str]:\n",
    "        entry = self.__data.iloc[index]\n",
    "\n",
    "        word = entry['дума']\n",
    "        origin = entry['произход']\n",
    "        word_tensor = self.__embeddeing_engine.get_embedding(word)\n",
    "        origin_tensor = self.__label_mapping[origin]\n",
    "\n",
    "        word_tensor_shape = word_tensor.shape\n",
    "        word_tensor = word_tensor.reshape((word_tensor_shape[0], 1, word_tensor_shape[1]))\n",
    "\n",
    "        return word, word_tensor, origin, origin_tensor\n"
   ]
  },
  {
   "cell_type": "code",
   "execution_count": 5,
   "metadata": {},
   "outputs": [],
   "source": [
    "class LoanwordClassifier(nn.Module):\n",
    "    def __init__(self, input_size: int, hidden_size: int, output_size: int):\n",
    "        super().__init__()\n",
    "        self.__hidden_size = hidden_size\n",
    "\n",
    "        self.__i2h = nn.Linear(input_size + self.__hidden_size, self.__hidden_size).to(device)\n",
    "        self.__h2o = nn.Linear(hidden_size, output_size).to(device)\n",
    "        self.__softmax = nn.LogSoftmax(dim=1).to(device)\n",
    "\n",
    "    def forward(self, input_tensor, hidden):\n",
    "        combined = torch.cat((input_tensor.to(device), hidden.to(device)), 1).to(device)\n",
    "        hidden = self.__i2h(combined).to(device)\n",
    "        output = self.__h2o(hidden).to(device)\n",
    "        output = self.__softmax(output).to(device)\n",
    "\n",
    "        return output, hidden\n",
    "\n",
    "    def init_hidden(self):\n",
    "        return torch.zeros(1, self.__hidden_size)"
   ]
  },
  {
   "cell_type": "code",
   "execution_count": 6,
   "metadata": {},
   "outputs": [],
   "source": [
    "def category_from_output(output, id_to_label):\n",
    "    top_n, top_i = output.topk(1)\n",
    "\n",
    "    category_i = top_i[0].item()\n",
    "    return id_to_label[category_i], category_i"
   ]
  },
  {
   "cell_type": "code",
   "execution_count": 7,
   "metadata": {},
   "outputs": [],
   "source": [
    "def train_epoch(model: LoanwordClassifier, train_dataloader, loss_fn,  id_to_label, learning_rate=0.005):\n",
    "    sum_loss = 0\n",
    "    for word, word_tensor, label, label_tensor in tqdm(train_dataloader):\n",
    "        word_tensor = word_tensor[0]\n",
    "        hidden = model.init_hidden()\n",
    "        model.zero_grad()\n",
    "\n",
    "        for syllable_embedding in word_tensor:\n",
    "            output, hidden = model(syllable_embedding, hidden)\n",
    "        \n",
    "        loss = loss_fn(output.to(device), label_tensor.to(device))\n",
    "        loss.backward()\n",
    "\n",
    "        for p in model.parameters():\n",
    "            p.data.add_(p.grad.data, alpha=-learning_rate)\n",
    "        \n",
    "        sum_loss += loss.item()\n",
    "\n",
    "    return sum_loss / len(train_dataloader)"
   ]
  },
  {
   "cell_type": "code",
   "execution_count": 8,
   "metadata": {},
   "outputs": [],
   "source": [
    "# Train & Test loop\n",
    "def train_loop(model: LoanwordClassifier, train_dataloader, epochs, loss_fn, id_to_label, learning_rate=0.005):\n",
    "    for epoch in range(epochs):\n",
    "        \n",
    "        epoch_loss = train_epoch(model, train_dataloader, loss_fn, id_to_label, learning_rate)\n",
    "        print(f\"Epoch: {epoch}, loss: {epoch_loss:>7f}\")"
   ]
  },
  {
   "cell_type": "code",
   "execution_count": 9,
   "metadata": {},
   "outputs": [],
   "source": [
    "def test_loop(model: LoanwordClassifier, test_dataloader, id_to_label):\n",
    "    predicted_ids = []\n",
    "    actual_ids = []\n",
    "    for word, word_tensor, label, label_tensor in tqdm(test_dataloader):\n",
    "        word_tensor = word_tensor[0]\n",
    "\n",
    "        hidden = model.init_hidden()\n",
    "\n",
    "        for syllable_embedding in word_tensor:\n",
    "            output, hidden = model(syllable_embedding, hidden)\n",
    "\n",
    "        predicted_label, predicted_label_id = category_from_output(output, id_to_label)\n",
    "        # print(predicted_label, predicted_label_id)\n",
    "        predicted_ids.append(predicted_label_id)\n",
    "        actual_ids.append(label_tensor)\n",
    "    \n",
    "    return predicted_ids, actual_ids"
   ]
  },
  {
   "cell_type": "code",
   "execution_count": 10,
   "metadata": {},
   "outputs": [],
   "source": [
    "def get_distribution(train_data, label_to_id):\n",
    "    counts = train_data['произход'].value_counts(normalize=True)\n",
    "    weights = sorted(zip(counts.keys(), counts), key=lambda x: label_to_id[x[0]])\n",
    "    weights = list(map(lambda x: x[1], weights))\n",
    "    return torch.Tensor(weights)"
   ]
  },
  {
   "cell_type": "code",
   "execution_count": 11,
   "metadata": {},
   "outputs": [],
   "source": [
    "path = '/mnt/d/Projects/masters-thesis/data/loanwords_2.csv'\n",
    "data = pd.read_csv(path)\n",
    "label_to_id, id_to_label = generate_label_mapping(data)\n",
    "\n",
    "# Running the model with normal labels \n",
    "train_data, test_data = train_test_split(data, random_state=RANDOM_STATE)\n",
    "\n",
    "\n",
    "train_dataset = LoanwordsDataset(train_data, label_to_id, embeddeing_engine=w2e)\n",
    "train_dataloader = DataLoader(train_dataset)\n",
    "\n",
    "test_dataset = LoanwordsDataset(test_data, label_to_id, embeddeing_engine=w2e)\n",
    "test_dataloader = DataLoader(test_dataset)\n",
    "\n",
    "model = LoanwordClassifier(input_size=512, hidden_size=2048, output_size=len(label_to_id))\n",
    "distribution = get_distribution(train_data, label_to_id).to(device)\n",
    "loss_fn = nn.NLLLoss(distribution)\n"
   ]
  },
  {
   "cell_type": "code",
   "execution_count": 12,
   "metadata": {},
   "outputs": [
    {
     "name": "stderr",
     "output_type": "stream",
     "text": [
      "100%|██████████| 27033/27033 [02:08<00:00, 210.95it/s]\n"
     ]
    },
    {
     "name": "stdout",
     "output_type": "stream",
     "text": [
      "Epoch: 0, loss: 0.575607\n"
     ]
    },
    {
     "name": "stderr",
     "output_type": "stream",
     "text": [
      "100%|██████████| 27033/27033 [02:03<00:00, 219.09it/s]\n"
     ]
    },
    {
     "name": "stdout",
     "output_type": "stream",
     "text": [
      "Epoch: 1, loss: 0.502771\n"
     ]
    },
    {
     "name": "stderr",
     "output_type": "stream",
     "text": [
      "100%|██████████| 27033/27033 [02:08<00:00, 210.42it/s]\n"
     ]
    },
    {
     "name": "stdout",
     "output_type": "stream",
     "text": [
      "Epoch: 2, loss: 0.473256\n"
     ]
    },
    {
     "name": "stderr",
     "output_type": "stream",
     "text": [
      "100%|██████████| 27033/27033 [02:06<00:00, 214.07it/s]\n"
     ]
    },
    {
     "name": "stdout",
     "output_type": "stream",
     "text": [
      "Epoch: 3, loss: 0.455993\n"
     ]
    },
    {
     "name": "stderr",
     "output_type": "stream",
     "text": [
      "100%|██████████| 27033/27033 [02:10<00:00, 206.87it/s]\n"
     ]
    },
    {
     "name": "stdout",
     "output_type": "stream",
     "text": [
      "Epoch: 4, loss: 0.447863\n"
     ]
    },
    {
     "name": "stderr",
     "output_type": "stream",
     "text": [
      "100%|██████████| 27033/27033 [02:10<00:00, 206.41it/s]\n"
     ]
    },
    {
     "name": "stdout",
     "output_type": "stream",
     "text": [
      "Epoch: 5, loss: 0.447564\n"
     ]
    },
    {
     "name": "stderr",
     "output_type": "stream",
     "text": [
      "100%|██████████| 27033/27033 [02:08<00:00, 210.07it/s]\n"
     ]
    },
    {
     "name": "stdout",
     "output_type": "stream",
     "text": [
      "Epoch: 6, loss: 0.454111\n"
     ]
    },
    {
     "name": "stderr",
     "output_type": "stream",
     "text": [
      "100%|██████████| 27033/27033 [02:09<00:00, 208.25it/s]\n"
     ]
    },
    {
     "name": "stdout",
     "output_type": "stream",
     "text": [
      "Epoch: 7, loss: 0.466952\n"
     ]
    },
    {
     "name": "stderr",
     "output_type": "stream",
     "text": [
      "100%|██████████| 27033/27033 [02:08<00:00, 210.12it/s]\n"
     ]
    },
    {
     "name": "stdout",
     "output_type": "stream",
     "text": [
      "Epoch: 8, loss: 0.479233\n"
     ]
    },
    {
     "name": "stderr",
     "output_type": "stream",
     "text": [
      "100%|██████████| 27033/27033 [02:07<00:00, 211.91it/s]"
     ]
    },
    {
     "name": "stdout",
     "output_type": "stream",
     "text": [
      "Epoch: 9, loss: 0.486302\n"
     ]
    },
    {
     "name": "stderr",
     "output_type": "stream",
     "text": [
      "\n"
     ]
    }
   ],
   "source": [
    "train_loop(model, train_dataloader, epochs=10, loss_fn=loss_fn, id_to_label=id_to_label)"
   ]
  },
  {
   "cell_type": "code",
   "execution_count": 13,
   "metadata": {},
   "outputs": [],
   "source": [
    "from datetime import datetime\n",
    "today_date = datetime.today().strftime('%Y-%m-%d')\n",
    "torch.save(model.state_dict(), f'models/classifier-{today_date}-1024hidden-10epochs.pth')"
   ]
  },
  {
   "cell_type": "code",
   "execution_count": 14,
   "metadata": {},
   "outputs": [],
   "source": [
    "from datetime import datetime\n",
    "today_date = datetime.today().strftime('%Y-%m-%d')\n",
    "\n",
    "id_to_label_json = json.dumps(id_to_label)\n",
    "with open(f'models/id-to-label-{today_date}-1024hidden-10epochs.json', 'w+') as fp:\n",
    "    fp.write(id_to_label_json)\n",
    "\n",
    "\n",
    "label_to_id_json = json.dumps(label_to_id)\n",
    "with open(f'models/label-to-id-{today_date}-1024hidden-10epochs.json', 'w+') as fp:\n",
    "    fp.write(label_to_id_json)"
   ]
  },
  {
   "cell_type": "code",
   "execution_count": 24,
   "metadata": {},
   "outputs": [],
   "source": [
    "# state_dict_path = 'models/classifier-2024-02-05-1024hidden-10epochs.pth'\n",
    "# model.load_state_dict(torch.load(state_dict_path))\n",
    "\n",
    "# with open('models/label-to-id-2024-02-05-1024hidden-10epochs.json') as fp:\n",
    "#     label_to_id = json.load(fp)\n",
    "\n",
    "# with open('models/id-to-label-2024-02-05-1024hidden-10epochs.json') as fp:\n",
    "#     id_to_label = json.load(fp)"
   ]
  },
  {
   "cell_type": "code",
   "execution_count": 15,
   "metadata": {},
   "outputs": [
    {
     "name": "stderr",
     "output_type": "stream",
     "text": [
      "100%|██████████| 9011/9011 [00:35<00:00, 250.47it/s]\n"
     ]
    }
   ],
   "source": [
    "p, a = test_loop(model, test_dataloader, id_to_label)\n",
    "a = [t.item() for t in a]"
   ]
  },
  {
   "cell_type": "code",
   "execution_count": 16,
   "metadata": {},
   "outputs": [
    {
     "data": {
      "text/plain": [
       "'correct: 6845, accuracy: 75.96%, f1: 0.775'"
      ]
     },
     "execution_count": 16,
     "metadata": {},
     "output_type": "execute_result"
    }
   ],
   "source": [
    "results = list(zip(p, a))\n",
    "correct = sum(1 for p, a in results if p == a)\n",
    "\n",
    "\n",
    "f'correct: {correct}, accuracy: {correct / len(results) * 100:.2f}%, f1: {f1_score(a, p, average=\"weighted\"):.3f}'"
   ]
  },
  {
   "cell_type": "code",
   "execution_count": 17,
   "metadata": {},
   "outputs": [
    {
     "data": {
      "text/plain": [
       "'correct: 7240, accuracy: 80.35%'"
      ]
     },
     "execution_count": 17,
     "metadata": {},
     "output_type": "execute_result"
    }
   ],
   "source": [
    "bg = label_to_id['bg']\n",
    "correct_overall = sum(1 for p, a in results if p == a or (p != bg and a != bg))\n",
    "\n",
    "\n",
    "f'correct: {correct_overall}, accuracy: {correct_overall / len(results) * 100:.2f}%'"
   ]
  },
  {
   "cell_type": "code",
   "execution_count": 18,
   "metadata": {},
   "outputs": [
    {
     "name": "stderr",
     "output_type": "stream",
     "text": [
      "/tmp/ipykernel_25342/575425773.py:15: UserWarning: set_ticklabels() should only be used with a fixed number of ticks, i.e. after set_ticks() or using a FixedLocator.\n",
      "  ax.set_xticklabels([''] + list(label_to_id.keys()), rotation=90)\n",
      "/tmp/ipykernel_25342/575425773.py:16: UserWarning: set_ticklabels() should only be used with a fixed number of ticks, i.e. after set_ticks() or using a FixedLocator.\n",
      "  ax.set_yticklabels([''] + list(label_to_id.keys()))\n"
     ]
    },
    {
     "data": {
      "image/png": "[encoded data removed]",
      "text/plain": [
       "<Figure size 640x480 with 2 Axes>"
      ]
     },
     "metadata": {},
     "output_type": "display_data"
    }
   ],
   "source": [
    "confusion = torch.zeros(len(label_to_id), len(label_to_id))\n",
    "for predicted, actual in results:\n",
    "    confusion[actual][predicted] += 1\n",
    "\n",
    "for i in range(len(label_to_id)):\n",
    "    confusion[i] = confusion[i] / confusion[i].sum()\n",
    "\n",
    "# Set up plot\n",
    "fig = plt.figure()\n",
    "ax = fig.add_subplot(111)\n",
    "cax = ax.matshow(confusion.numpy())\n",
    "fig.colorbar(cax)\n",
    "\n",
    "# Set up axes\n",
    "ax.set_xticklabels([''] + list(label_to_id.keys()), rotation=90)\n",
    "ax.set_yticklabels([''] + list(label_to_id.keys()))\n",
    "\n",
    "# Force label at every tick\n",
    "ax.xaxis.set_major_locator(ticker.MultipleLocator(1))\n",
    "ax.yaxis.set_major_locator(ticker.MultipleLocator(1))\n",
    "\n",
    "# sphinx_gallery_thumbnail_number = 2\n",
    "plt.show()"
   ]
  }
 ],
 "metadata": {
  "kernelspec": {
   "display_name": ".venv",
   "language": "python",
   "name": "python3"
  },
  "language_info": {
   "codemirror_mode": {
    "name": "ipython",
    "version": 3
   },
   "file_extension": ".py",
   "mimetype": "text/x-python",
   "name": "python",
   "nbconvert_exporter": "python",
   "pygments_lexer": "ipython3",
   "version": "3.10.12"
  }
 },
 "nbformat": 4,
 "nbformat_minor": 2
}
