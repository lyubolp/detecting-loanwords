{
 "cells": [
  {
   "cell_type": "code",
   "execution_count": 88,
   "metadata": {},
   "outputs": [],
   "source": [
    "# Third party imports\n",
    "import numpy as np\n",
    "import pandas as pd\n",
    "import torch\n",
    "import seaborn as sns\n",
    "\n",
    "from sklearn.cluster import KMeans\n",
    "\n",
    "import src.constants as const\n",
    "from src.dataset_utils import yield_tokens, sentence_to_tensor, load_files, build_vocab_transformation, tokenize_source, tokenize_target\n",
    "from src.transcription_dataset import TranscriptionDataset\n",
    "from src.transformer_model import Seq2SeqTransformer"
   ]
  },
  {
   "cell_type": "markdown",
   "metadata": {},
   "source": [
    "## Model"
   ]
  },
  {
   "cell_type": "code",
   "execution_count": 3,
   "metadata": {},
   "outputs": [],
   "source": [
    "torch.manual_seed(0)\n",
    "\n",
    "SRC_VOCAB_SIZE = 5201 # Hardcoded for now\n",
    "TGT_VOCAB_SIZE = 3398 # Hardcoded for now\n",
    "EMB_SIZE = 512\n",
    "NHEAD = 8\n",
    "FFN_HID_DIM = 512\n",
    "NUM_ENCODER_LAYERS = 3\n",
    "NUM_DECODER_LAYERS = 3\n",
    "\n",
    "transformer = Seq2SeqTransformer(NUM_ENCODER_LAYERS, NUM_DECODER_LAYERS, EMB_SIZE,\n",
    "                                 NHEAD, SRC_VOCAB_SIZE, TGT_VOCAB_SIZE, FFN_HID_DIM)\n",
    "transformer = transformer.to(const.device)"
   ]
  },
  {
   "cell_type": "code",
   "execution_count": 4,
   "metadata": {},
   "outputs": [
    {
     "data": {
      "text/plain": [
       "<All keys matched successfully>"
      ]
     },
     "execution_count": 4,
     "metadata": {},
     "output_type": "execute_result"
    }
   ],
   "source": [
    "transformer.load_state_dict(torch.load('models/transformer-2023-10-08-50000-25.pth'))"
   ]
  },
  {
   "cell_type": "code",
   "execution_count": 5,
   "metadata": {},
   "outputs": [],
   "source": [
    "# Train & test split\n",
    "sentences_to_use = 50000\n",
    "train_split = int(const.TRAIN_TEST_SPLIT * sentences_to_use)\n",
    "validation_split = int((const.TRAIN_TEST_SPLIT + const.TRAIN_VALIDATION_SPLIT) * sentences_to_use)"
   ]
  },
  {
   "cell_type": "code",
   "execution_count": 6,
   "metadata": {},
   "outputs": [],
   "source": [
    "files = load_files('/mnt/d/Projects/masters-thesis/data/transcriptions')"
   ]
  },
  {
   "cell_type": "code",
   "execution_count": 7,
   "metadata": {},
   "outputs": [],
   "source": [
    "train_dataset = TranscriptionDataset(files, tokenization_src=tokenize_source, tokenization_tgt=tokenize_target,\n",
    "                                     start_index=0, end_index=train_split)"
   ]
  },
  {
   "cell_type": "code",
   "execution_count": 8,
   "metadata": {},
   "outputs": [],
   "source": [
    "# helper function to club together sequential operations\n",
    "def sequential_transforms(*transforms):\n",
    "    def func(txt_input):\n",
    "        for transform in transforms:\n",
    "            txt_input = transform(txt_input)\n",
    "        return txt_input\n",
    "    return func\n",
    "\n",
    "# function to add BOS/EOS and create tensor for input sequence indices\n",
    "def tensor_transform(token_ids: list[int]):\n",
    "    return torch.cat((torch.tensor([const.BOS_IDX]),\n",
    "                      torch.tensor(token_ids),\n",
    "                      torch.tensor([const.EOS_IDX])))\n",
    "\n",
    "const.vocab_transform[const.SRC_LANGUAGE] = build_vocab_transformation(train_dataset, const.SRC_LANGUAGE)\n",
    "\n",
    "text_transform_src = sequential_transforms(tokenize_source,\n",
    "    const.vocab_transform[const.SRC_LANGUAGE], #Numericalization\n",
    "                                                tensor_transform) # Add BOS/EOS and create tensor\n"
   ]
  },
  {
   "cell_type": "code",
   "execution_count": 35,
   "metadata": {},
   "outputs": [],
   "source": [
    "def average_vectors(embedding):\n",
    "    return (sum(embedding) / len(embedding))[0].cpu().detach().numpy()"
   ]
  },
  {
   "cell_type": "code",
   "execution_count": 146,
   "metadata": {},
   "outputs": [],
   "source": [
    "def get_embedding(model: Seq2SeqTransformer, word: str, sum_function=average_vectors):\n",
    "    word = word.lower()\n",
    "    model.eval()\n",
    "    src = text_transform_src(word).view(-1, 1).to(const.device)\n",
    "\n",
    "    num_tokens = src.shape[0]\n",
    "    src_mask = (torch.zeros(num_tokens, num_tokens)).type(torch.bool)\n",
    "    \n",
    "    embedding = model.encode(src.to(const.device), src_mask.to(const.device))[1:-1]\n",
    "\n",
    "    return sum_function(embedding)\n",
    "    # return (sum(embedding) / len(embedding))[0].cpu().detach().numpy()"
   ]
  },
  {
   "cell_type": "markdown",
   "metadata": {},
   "source": [
    "## Clustering"
   ]
  },
  {
   "cell_type": "code",
   "execution_count": 10,
   "metadata": {},
   "outputs": [],
   "source": [
    "# print(get_embedding(transformer, \"здравей\"))"
   ]
  },
  {
   "cell_type": "code",
   "execution_count": 11,
   "metadata": {},
   "outputs": [
    {
     "data": {
      "text/plain": [
       "0     аванпост\n",
       "1       авиоас\n",
       "2      авиобос\n",
       "3    авиобранш\n",
       "4     авиоград\n",
       "Name: word, dtype: object"
      ]
     },
     "execution_count": 11,
     "metadata": {},
     "output_type": "execute_result"
    }
   ],
   "source": [
    "words = pd.read_csv('/mnt/d/Projects/masters-thesis/data/words.csv', header=None, names=['word', 'transcription'])\n",
    "words['word'].head()"
   ]
  },
  {
   "cell_type": "code",
   "execution_count": 12,
   "metadata": {},
   "outputs": [
    {
     "data": {
      "text/plain": [
       "(119678, 512)"
      ]
     },
     "execution_count": 12,
     "metadata": {},
     "output_type": "execute_result"
    }
   ],
   "source": [
    "X = words['word'].apply(lambda x: get_embedding(transformer, x))\n",
    "X = X.to_numpy()\n",
    "X = np.vstack(X)\n",
    "X.shape"
   ]
  },
  {
   "cell_type": "code",
   "execution_count": 13,
   "metadata": {},
   "outputs": [],
   "source": [
    "kmeans = KMeans(n_clusters=1, random_state=0, n_init=\"auto\").fit(X)"
   ]
  },
  {
   "cell_type": "code",
   "execution_count": 14,
   "metadata": {},
   "outputs": [],
   "source": [
    "distances = kmeans.transform(X)"
   ]
  },
  {
   "cell_type": "code",
   "execution_count": 15,
   "metadata": {},
   "outputs": [],
   "source": [
    "words['distance'] = distances"
   ]
  },
  {
   "cell_type": "code",
   "execution_count": 16,
   "metadata": {},
   "outputs": [
    {
     "data": {
      "text/html": [
       "<div>\n",
       "<style scoped>\n",
       "    .dataframe tbody tr th:only-of-type {\n",
       "        vertical-align: middle;\n",
       "    }\n",
       "\n",
       "    .dataframe tbody tr th {\n",
       "        vertical-align: top;\n",
       "    }\n",
       "\n",
       "    .dataframe thead th {\n",
       "        text-align: right;\n",
       "    }\n",
       "</style>\n",
       "<table border=\"1\" class=\"dataframe\">\n",
       "  <thead>\n",
       "    <tr style=\"text-align: right;\">\n",
       "      <th></th>\n",
       "      <th>word</th>\n",
       "      <th>transcription</th>\n",
       "      <th>distance</th>\n",
       "    </tr>\n",
       "  </thead>\n",
       "  <tbody>\n",
       "    <tr>\n",
       "      <th>0</th>\n",
       "      <td>аванпост</td>\n",
       "      <td>ава`нпост</td>\n",
       "      <td>7.611586</td>\n",
       "    </tr>\n",
       "    <tr>\n",
       "      <th>1</th>\n",
       "      <td>авиоас</td>\n",
       "      <td>а`виоа`с</td>\n",
       "      <td>6.655470</td>\n",
       "    </tr>\n",
       "    <tr>\n",
       "      <th>2</th>\n",
       "      <td>авиобос</td>\n",
       "      <td>а`виобо`с</td>\n",
       "      <td>6.287144</td>\n",
       "    </tr>\n",
       "    <tr>\n",
       "      <th>3</th>\n",
       "      <td>авиобранш</td>\n",
       "      <td>а`виобра`нш</td>\n",
       "      <td>5.829149</td>\n",
       "    </tr>\n",
       "    <tr>\n",
       "      <th>4</th>\n",
       "      <td>авиоград</td>\n",
       "      <td>а`виогра`д</td>\n",
       "      <td>5.926437</td>\n",
       "    </tr>\n",
       "  </tbody>\n",
       "</table>\n",
       "</div>"
      ],
      "text/plain": [
       "        word transcription  distance\n",
       "0   аванпост     ава`нпост  7.611586\n",
       "1     авиоас      а`виоа`с  6.655470\n",
       "2    авиобос     а`виобо`с  6.287144\n",
       "3  авиобранш   а`виобра`нш  5.829149\n",
       "4   авиоград    а`виогра`д  5.926437"
      ]
     },
     "execution_count": 16,
     "metadata": {},
     "output_type": "execute_result"
    }
   ],
   "source": [
    "words.head()"
   ]
  },
  {
   "cell_type": "code",
   "execution_count": 17,
   "metadata": {},
   "outputs": [
    {
     "data": {
      "text/html": [
       "<div>\n",
       "<style scoped>\n",
       "    .dataframe tbody tr th:only-of-type {\n",
       "        vertical-align: middle;\n",
       "    }\n",
       "\n",
       "    .dataframe tbody tr th {\n",
       "        vertical-align: top;\n",
       "    }\n",
       "\n",
       "    .dataframe thead th {\n",
       "        text-align: right;\n",
       "    }\n",
       "</style>\n",
       "<table border=\"1\" class=\"dataframe\">\n",
       "  <thead>\n",
       "    <tr style=\"text-align: right;\">\n",
       "      <th></th>\n",
       "      <th>word</th>\n",
       "      <th>transcription</th>\n",
       "      <th>distance</th>\n",
       "    </tr>\n",
       "  </thead>\n",
       "  <tbody>\n",
       "    <tr>\n",
       "      <th>105758</th>\n",
       "      <td>я</td>\n",
       "      <td>я</td>\n",
       "      <td>14.999984</td>\n",
       "    </tr>\n",
       "    <tr>\n",
       "      <th>105924</th>\n",
       "      <td>я</td>\n",
       "      <td>я</td>\n",
       "      <td>14.999984</td>\n",
       "    </tr>\n",
       "    <tr>\n",
       "      <th>96051</th>\n",
       "      <td>яздя</td>\n",
       "      <td>я`здя</td>\n",
       "      <td>14.545139</td>\n",
       "    </tr>\n",
       "    <tr>\n",
       "      <th>87</th>\n",
       "      <td>бич</td>\n",
       "      <td>бич</td>\n",
       "      <td>14.403899</td>\n",
       "    </tr>\n",
       "    <tr>\n",
       "      <th>84627</th>\n",
       "      <td>тяло</td>\n",
       "      <td>тя`ло</td>\n",
       "      <td>14.283451</td>\n",
       "    </tr>\n",
       "    <tr>\n",
       "      <th>96683</th>\n",
       "      <td>кънтя</td>\n",
       "      <td>кънтя`</td>\n",
       "      <td>14.204163</td>\n",
       "    </tr>\n",
       "    <tr>\n",
       "      <th>165</th>\n",
       "      <td>вид</td>\n",
       "      <td>вид</td>\n",
       "      <td>14.191480</td>\n",
       "    </tr>\n",
       "    <tr>\n",
       "      <th>272</th>\n",
       "      <td>дек</td>\n",
       "      <td>дек</td>\n",
       "      <td>14.166687</td>\n",
       "    </tr>\n",
       "    <tr>\n",
       "      <th>96039</th>\n",
       "      <td>целя</td>\n",
       "      <td>це`ля</td>\n",
       "      <td>14.131298</td>\n",
       "    </tr>\n",
       "    <tr>\n",
       "      <th>96792</th>\n",
       "      <td>целя</td>\n",
       "      <td>це`ля</td>\n",
       "      <td>14.131298</td>\n",
       "    </tr>\n",
       "  </tbody>\n",
       "</table>\n",
       "</div>"
      ],
      "text/plain": [
       "         word transcription   distance\n",
       "105758      я             я  14.999984\n",
       "105924      я             я  14.999984\n",
       "96051    яздя         я`здя  14.545139\n",
       "87        бич           бич  14.403899\n",
       "84627    тяло         тя`ло  14.283451\n",
       "96683   кънтя        кънтя`  14.204163\n",
       "165       вид           вид  14.191480\n",
       "272       дек           дек  14.166687\n",
       "96039    целя         це`ля  14.131298\n",
       "96792    целя         це`ля  14.131298"
      ]
     },
     "execution_count": 17,
     "metadata": {},
     "output_type": "execute_result"
    }
   ],
   "source": [
    "words.sort_values(by=['distance'], ascending=False).head(10)"
   ]
  },
  {
   "cell_type": "code",
   "execution_count": 18,
   "metadata": {},
   "outputs": [
    {
     "data": {
      "text/html": [
       "<div>\n",
       "<style scoped>\n",
       "    .dataframe tbody tr th:only-of-type {\n",
       "        vertical-align: middle;\n",
       "    }\n",
       "\n",
       "    .dataframe tbody tr th {\n",
       "        vertical-align: top;\n",
       "    }\n",
       "\n",
       "    .dataframe thead th {\n",
       "        text-align: right;\n",
       "    }\n",
       "</style>\n",
       "<table border=\"1\" class=\"dataframe\">\n",
       "  <thead>\n",
       "    <tr style=\"text-align: right;\">\n",
       "      <th></th>\n",
       "      <th>word</th>\n",
       "      <th>transcription</th>\n",
       "      <th>distance</th>\n",
       "    </tr>\n",
       "  </thead>\n",
       "  <tbody>\n",
       "    <tr>\n",
       "      <th>61413</th>\n",
       "      <td>бибипкане</td>\n",
       "      <td>бибипкане</td>\n",
       "      <td>5.262395</td>\n",
       "    </tr>\n",
       "    <tr>\n",
       "      <th>45915</th>\n",
       "      <td>ахилесов</td>\n",
       "      <td>ахиле`сов</td>\n",
       "      <td>5.255245</td>\n",
       "    </tr>\n",
       "    <tr>\n",
       "      <th>18557</th>\n",
       "      <td>обаятелка</td>\n",
       "      <td>обаятелка</td>\n",
       "      <td>5.240114</td>\n",
       "    </tr>\n",
       "    <tr>\n",
       "      <th>16608</th>\n",
       "      <td>кинофраза</td>\n",
       "      <td>кинофраза</td>\n",
       "      <td>5.226163</td>\n",
       "    </tr>\n",
       "    <tr>\n",
       "      <th>36040</th>\n",
       "      <td>файлообмен</td>\n",
       "      <td>файлообмен</td>\n",
       "      <td>5.178284</td>\n",
       "    </tr>\n",
       "    <tr>\n",
       "      <th>16054</th>\n",
       "      <td>индустрийка</td>\n",
       "      <td>индустрийка</td>\n",
       "      <td>5.170302</td>\n",
       "    </tr>\n",
       "    <tr>\n",
       "      <th>63945</th>\n",
       "      <td>каталясване</td>\n",
       "      <td>каталясване</td>\n",
       "      <td>5.125273</td>\n",
       "    </tr>\n",
       "    <tr>\n",
       "      <th>61388</th>\n",
       "      <td>баталясване</td>\n",
       "      <td>баталясване</td>\n",
       "      <td>5.122010</td>\n",
       "    </tr>\n",
       "    <tr>\n",
       "      <th>88551</th>\n",
       "      <td>изкалъпвам</td>\n",
       "      <td>изкалъ`пвам</td>\n",
       "      <td>5.112473</td>\n",
       "    </tr>\n",
       "    <tr>\n",
       "      <th>73357</th>\n",
       "      <td>двусмисленост</td>\n",
       "      <td>двусми`сленост</td>\n",
       "      <td>5.071452</td>\n",
       "    </tr>\n",
       "  </tbody>\n",
       "</table>\n",
       "</div>"
      ],
      "text/plain": [
       "                word   transcription  distance\n",
       "61413      бибипкане       бибипкане  5.262395\n",
       "45915       ахилесов       ахиле`сов  5.255245\n",
       "18557      обаятелка       обаятелка  5.240114\n",
       "16608      кинофраза       кинофраза  5.226163\n",
       "36040     файлообмен      файлообмен  5.178284\n",
       "16054    индустрийка     индустрийка  5.170302\n",
       "63945    каталясване     каталясване  5.125273\n",
       "61388    баталясване     баталясване  5.122010\n",
       "88551     изкалъпвам     изкалъ`пвам  5.112473\n",
       "73357  двусмисленост  двусми`сленост  5.071452"
      ]
     },
     "execution_count": 18,
     "metadata": {},
     "output_type": "execute_result"
    }
   ],
   "source": [
    "words.sort_values(by=['distance'], ascending=False).tail(10)"
   ]
  },
  {
   "cell_type": "markdown",
   "metadata": {},
   "source": [
    "## Distance calculations"
   ]
  },
  {
   "cell_type": "code",
   "execution_count": 19,
   "metadata": {},
   "outputs": [],
   "source": [
    "def calcualte_distance(word: str) -> float:\n",
    "    embedding = get_embedding(transformer, word)\n",
    "    distance = kmeans.transform([embedding])\n",
    "\n",
    "    return distance[0][0]"
   ]
  },
  {
   "cell_type": "code",
   "execution_count": 20,
   "metadata": {},
   "outputs": [
    {
     "data": {
      "text/plain": [
       "10.205337111822425"
      ]
     },
     "execution_count": 20,
     "metadata": {},
     "output_type": "execute_result"
    }
   ],
   "source": [
    "calcualte_distance(\"здравей\")"
   ]
  },
  {
   "cell_type": "code",
   "execution_count": 21,
   "metadata": {},
   "outputs": [
    {
     "data": {
      "text/plain": [
       "7.44488404470796"
      ]
     },
     "execution_count": 21,
     "metadata": {},
     "output_type": "execute_result"
    }
   ],
   "source": [
    "calcualte_distance(\"атака\")"
   ]
  },
  {
   "cell_type": "code",
   "execution_count": 22,
   "metadata": {},
   "outputs": [
    {
     "data": {
      "text/plain": [
       "9.650738880690614"
      ]
     },
     "execution_count": 22,
     "metadata": {},
     "output_type": "execute_result"
    }
   ],
   "source": [
    "calcualte_distance(\"мерси\")"
   ]
  },
  {
   "cell_type": "markdown",
   "metadata": {},
   "source": [
    "## Playground"
   ]
  },
  {
   "cell_type": "code",
   "execution_count": 169,
   "metadata": {},
   "outputs": [
    {
     "data": {
      "text/plain": [
       "array([1, 2, 3, 0, 0])"
      ]
     },
     "execution_count": 169,
     "metadata": {},
     "output_type": "execute_result"
    }
   ],
   "source": [
    "a = np.array([1, 2, 3])\n",
    "\n",
    "np.pad(a, (0, 5 - len(a)))"
   ]
  },
  {
   "cell_type": "code",
   "execution_count": 170,
   "metadata": {},
   "outputs": [],
   "source": [
    "def concat_embedding(embedding):\n",
    "    embedding = embedding.cpu().detach().numpy()\n",
    "    embedding_list = [embedding[i][0] for i in range(embedding.shape[0])]\n",
    "    embedding_concat = np.concatenate(embedding_list)\n",
    "    embedding_padded = np.pad(embedding_concat, (0, 7*512 - len(embedding_concat)), mode='constant', constant_values=[0])\n",
    "\n",
    "    return embedding_padded"
   ]
  },
  {
   "cell_type": "code",
   "execution_count": 183,
   "metadata": {},
   "outputs": [],
   "source": [
    "word1 = 'покана'\n",
    "word2 = 'кана'\n",
    "word3 = 'допира'\n",
    "\n",
    "word1_embedding = get_embedding(transformer, word1, concat_embedding)\n",
    "word2_embedding = get_embedding(transformer, word2, concat_embedding)\n",
    "word3_embedding = get_embedding(transformer, word3, concat_embedding)"
   ]
  },
  {
   "cell_type": "code",
   "execution_count": 172,
   "metadata": {},
   "outputs": [
    {
     "data": {
      "text/plain": [
       "(3584,)"
      ]
     },
     "execution_count": 172,
     "metadata": {},
     "output_type": "execute_result"
    }
   ],
   "source": [
    "word1_embedding.shape"
   ]
  },
  {
   "cell_type": "code",
   "execution_count": 184,
   "metadata": {},
   "outputs": [
    {
     "data": {
      "text/plain": [
       "34.188503"
      ]
     },
     "execution_count": 184,
     "metadata": {},
     "output_type": "execute_result"
    }
   ],
   "source": [
    "np.linalg.norm(word1_embedding - word2_embedding)"
   ]
  },
  {
   "cell_type": "code",
   "execution_count": 185,
   "metadata": {},
   "outputs": [
    {
     "data": {
      "text/plain": [
       "36.33621"
      ]
     },
     "execution_count": 185,
     "metadata": {},
     "output_type": "execute_result"
    }
   ],
   "source": [
    "np.linalg.norm(word2_embedding - word3_embedding)"
   ]
  },
  {
   "cell_type": "code",
   "execution_count": 186,
   "metadata": {},
   "outputs": [
    {
     "data": {
      "text/plain": [
       "30.643633"
      ]
     },
     "execution_count": 186,
     "metadata": {},
     "output_type": "execute_result"
    }
   ],
   "source": [
    "np.linalg.norm(word1_embedding - word3_embedding)"
   ]
  }
 ],
 "metadata": {
  "kernelspec": {
   "display_name": ".venv",
   "language": "python",
   "name": "python3"
  },
  "language_info": {
   "codemirror_mode": {
    "name": "ipython",
    "version": 3
   },
   "file_extension": ".py",
   "mimetype": "text/x-python",
   "name": "python",
   "nbconvert_exporter": "python",
   "pygments_lexer": "ipython3",
   "version": "3.10.12"
  },
  "orig_nbformat": 4
 },
 "nbformat": 4,
 "nbformat_minor": 2
}
