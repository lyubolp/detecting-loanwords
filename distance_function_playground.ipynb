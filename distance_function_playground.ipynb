{
 "cells": [
  {
   "cell_type": "code",
   "execution_count": 72,
   "metadata": {},
   "outputs": [],
   "source": [
    "from itertools import accumulate\n",
    "\n",
    "import numpy as np"
   ]
  },
  {
   "cell_type": "code",
   "execution_count": 4,
   "metadata": {},
   "outputs": [],
   "source": [
    "def generate_indexes(m, n, k):\n",
    "    indexes = ((i, j) for i in range(m) for j in range(n))\n",
    "    indexes = filter(lambda x: x[0] + x[1] == k, indexes)\n",
    "\n",
    "    return indexes\n",
    "\n",
    "def conv_n(x, y, m, f, g):\n",
    "    indexes = generate_indexes(len(x), len(y), m)\n",
    "\n",
    "    return g(f(x[i], y[j]) for i, j in indexes)\n",
    "\n",
    "def conv(x, y, f, g):\n",
    "    return [conv_n(x, y, m, f, g) for m in range(2 * len(x) - 1)]"
   ]
  },
  {
   "cell_type": "code",
   "execution_count": 93,
   "metadata": {},
   "outputs": [],
   "source": [
    "def levenshtein(word_1, word_2):\n",
    "    m = len(word_1)\n",
    "    n = len(word_2)\n",
    "\n",
    "    dist = np.zeros((m + 1, n + 1))\n",
    "\n",
    "    dist[1:, 0] = list(accumulate(word_1, func=lambda x, y: x + np.linalg.norm(y), initial=0))[1:]\n",
    "    dist[0, 1:] = list(accumulate(word_2, func=lambda x, y: x + np.linalg.norm(y), initial=0))[1:]\n",
    "\n",
    "\n",
    "    for j in range(1, n+1):\n",
    "        for i in range(1, m+1):\n",
    "            deletion_cost = np.linalg.norm(word_1[i-1])  # Needs check\n",
    "            insertion_cost = np.linalg.norm(word_2[j-1])  # Needs check\n",
    "            substitution_cost = 0\n",
    "\n",
    "            if all(word_1[i - 1] != word_2[j - 1]):\n",
    "                substitution_cost = np.linalg.norm(word_1[i - 1] - word_2[j - 1])\n",
    "\n",
    "            dist[i, j] = min(dist[i - 1, j] + deletion_cost, \n",
    "                             dist[i, j - 1] + insertion_cost, \n",
    "                             dist[i - 1, j - 1] + substitution_cost)\n",
    "\n",
    "    return dist[len(word_1), len(word_2)]"
   ]
  },
  {
   "cell_type": "code",
   "execution_count": 94,
   "metadata": {},
   "outputs": [
    {
     "data": {
      "text/plain": [
       "5.196152422706632"
      ]
     },
     "execution_count": 94,
     "metadata": {},
     "output_type": "execute_result"
    }
   ],
   "source": [
    "levenshtein(np.array([[1, 2, 3], [4, 5, 6]]), np.array([[1, 5, 9], [7, 8, 9]]))"
   ]
  },
  {
   "cell_type": "code",
   "execution_count": 74,
   "metadata": {},
   "outputs": [],
   "source": [
    "def distance(word1, word2):\n",
    "    # return sum(conv(word1, word2, lambda x, y: abs(x-y), sum))\n",
    "    return levenshtein(word1, word2)"
   ]
  },
  {
   "cell_type": "code",
   "execution_count": 4,
   "metadata": {},
   "outputs": [
    {
     "name": "stdout",
     "output_type": "stream",
     "text": [
      "False Property 1\n",
      "True Property 2\n",
      "True Property 3\n",
      "True Property 4\n",
      "True Property 5\n",
      "True Property 6\n",
      "True Property 7\n",
      "True Property 8\n"
     ]
    }
   ],
   "source": [
    "w1 = [1, 2, 3]\n",
    "w2 = [4, 5, 6]\n",
    "w3 = [7, 8, 9, 10]\n",
    "\n",
    "# Tests\n",
    "print(len(w1) != len(w3) and isinstance(distance(w1, w3), float), \"Property 1\")\n",
    "print(abs(distance(w1, w2)) == abs(distance(w2, w1)) , \"Property 2\")\n",
    "print(distance(w1, w1) == 0 , \"Property 3\")\n",
    "print(distance(w1, [5] + w1) < distance(w1, [5] + w1 + [7]), \"Property 4\")\n",
    "print(distance(w1, [7] + w1) < distance(w1, w2) , \"Property 5\")\n",
    "print(distance(w1, w1 + [8]) < distance(w1, w2) , \"Property 6\")\n",
    "print(distance(w1, w2) + distance(w2, w3) >= distance(w1, w3) , \"Property 7\")\n",
    "print(abs(distance(w1, [7] + w1) - distance(w1, w1 + [7])) < 0.05 , \"Property 8\")"
   ]
  }
 ],
 "metadata": {
  "kernelspec": {
   "display_name": ".venv",
   "language": "python",
   "name": "python3"
  },
  "language_info": {
   "codemirror_mode": {
    "name": "ipython",
    "version": 3
   },
   "file_extension": ".py",
   "mimetype": "text/x-python",
   "name": "python",
   "nbconvert_exporter": "python",
   "pygments_lexer": "ipython3",
   "version": "3.10.12"
  },
  "orig_nbformat": 4
 },
 "nbformat": 4,
 "nbformat_minor": 2
}
